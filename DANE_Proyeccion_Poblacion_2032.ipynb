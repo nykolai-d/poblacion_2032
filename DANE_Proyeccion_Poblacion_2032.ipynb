{
  "nbformat": 4,
  "nbformat_minor": 0,
  "metadata": {
    "colab": {
      "name": "NDiaz_614182002_Parcial1_Simulacion.ipynb",
      "provenance": []
    },
    "kernelspec": {
      "name": "python3",
      "display_name": "Python 3"
    },
    "language_info": {
      "name": "python"
    }
  },
  "cells": [
    {
      "cell_type": "code",
      "metadata": {
        "id": "beqxA1EG7K2c"
      },
      "source": [
        "import numpy as np\n",
        "import scipy as sp\n",
        "import matplotlib.pyplot as plt\n",
        "import pandas as pd\n",
        "import io\n",
        "from google.colab import files"
      ],
      "execution_count": 3,
      "outputs": []
    },
    {
      "cell_type": "code",
      "metadata": {
        "colab": {
          "resources": {
            "http://localhost:8080/nbextensions/google.colab/files.js": {
              "data": "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",
              "ok": true,
              "headers": [
                [
                  "content-type",
                  "application/javascript"
                ]
              ],
              "status": 200,
              "status_text": "OK"
            }
          },
          "base_uri": "https://localhost:8080/",
          "height": 73
        },
        "id": "KIEJnXDb7ePx",
        "outputId": "ca4da09d-b15d-46ea-9018-7200fc72c534"
      },
      "source": [
        "uploaded = files.upload()"
      ],
      "execution_count": 4,
      "outputs": [
        {
          "output_type": "display_data",
          "data": {
            "text/html": [
              "\n",
              "     <input type=\"file\" id=\"files-6c13a981-6fc2-4b8e-926a-e684f292b653\" name=\"files[]\" multiple disabled\n",
              "        style=\"border:none\" />\n",
              "     <output id=\"result-6c13a981-6fc2-4b8e-926a-e684f292b653\">\n",
              "      Upload widget is only available when the cell has been executed in the\n",
              "      current browser session. Please rerun this cell to enable.\n",
              "      </output>\n",
              "      <script src=\"/nbextensions/google.colab/files.js\"></script> "
            ],
            "text/plain": [
              "<IPython.core.display.HTML object>"
            ]
          },
          "metadata": {}
        },
        {
          "output_type": "stream",
          "name": "stdout",
          "text": [
            "Saving ProyeccionesDANE.csv to ProyeccionesDANE.csv\n"
          ]
        }
      ]
    },
    {
      "cell_type": "code",
      "metadata": {
        "colab": {
          "base_uri": "https://localhost:8080/"
        },
        "id": "eTp7NlJN7pfB",
        "outputId": "ecddfd0f-3a30-4865-c8e1-30405285bf2e"
      },
      "source": [
        "tabla = pd.read_csv(io.BytesIO(uploaded['ProyeccionesDANE.csv']))\n",
        "print(tabla)"
      ],
      "execution_count": 5,
      "outputs": [
        {
          "output_type": "stream",
          "name": "stdout",
          "text": [
            "     Año  Población\n",
            "0   1993   35032308\n",
            "1   1994   35629174\n",
            "2   1995   36229830\n",
            "3   1996   36830574\n",
            "4   1997   37426532\n",
            "5   1998   38012359\n",
            "6   1999   38585016\n",
            "7   2000   39140080\n",
            "8   2001   39674811\n",
            "9   2002   40190679\n",
            "10  2003   40693254\n",
            "11  2004   41188093\n",
            "12  2005   41671878\n",
            "13  2006   42170126\n",
            "14  2007   42658630\n",
            "15  2008   43134017\n",
            "16  2009   43608630\n",
            "17  2010   44086292\n",
            "18  2011   44553416\n",
            "19  2012   45001571\n",
            "20  2013   45434942\n",
            "21  2014   45866010\n",
            "22  2015   46313898\n",
            "23  2016   46830116\n",
            "24  2017   47419200\n",
            "25  2018   48258494\n",
            "26  2019   49395678\n",
            "27  2020   50372424\n",
            "28  2021   51049498\n"
          ]
        }
      ]
    },
    {
      "cell_type": "code",
      "metadata": {
        "colab": {
          "base_uri": "https://localhost:8080/",
          "height": 350
        },
        "id": "FMkN1aXR77Q3",
        "outputId": "d129004b-70c7-46b2-f268-5135292d844e"
      },
      "source": [
        "plt.figure(figsize = (7,5))\n",
        "plt.plot(tabla['Año'], tabla['Población'],'.')\n",
        "plt.title('Datos originales',)\n",
        "plt.xlabel('Año')\n",
        "plt.ylabel('Población')\n",
        "plt.show()"
      ],
      "execution_count": 6,
      "outputs": [
        {
          "output_type": "display_data",
          "data": {
            "image/png": "[encoded data removed]",
            "text/plain": [
              "<Figure size 504x360 with 1 Axes>"
            ]
          },
          "metadata": {
            "needs_background": "light"
          }
        }
      ]
    },
    {
      "cell_type": "markdown",
      "metadata": {
        "id": "9vZ6109q7yHz"
      },
      "source": [
        "Haremos una interpolación cúbica para estimar la proyección mensual de población de los años mostrados."
      ]
    },
    {
      "cell_type": "code",
      "metadata": {
        "id": "yFGpXotJ7pcF"
      },
      "source": [
        "from scipy import interpolate"
      ],
      "execution_count": 8,
      "outputs": []
    },
    {
      "cell_type": "code",
      "metadata": {
        "id": "3Up9Nv-J7pZN"
      },
      "source": [
        "y = np.array(tabla['Población'])\n",
        "x = np.array(tabla['Año'])"
      ],
      "execution_count": 11,
      "outputs": []
    },
    {
      "cell_type": "code",
      "metadata": {
        "id": "LJmF_nQi-lML"
      },
      "source": [
        "sprep = interpolate.splrep(x, y, s=0)"
      ],
      "execution_count": 12,
      "outputs": []
    },
    {
      "cell_type": "code",
      "metadata": {
        "colab": {
          "base_uri": "https://localhost:8080/"
        },
        "id": "S6B56ara7pWS",
        "outputId": "a409a34e-25b3-4dfb-8c08-c017ccbba9d9"
      },
      "source": [
        "x,y"
      ],
      "execution_count": 13,
      "outputs": [
        {
          "output_type": "execute_result",
          "data": {
            "text/plain": [
              "(array([1993, 1994, 1995, 1996, 1997, 1998, 1999, 2000, 2001, 2002, 2003,\n",
              "        2004, 2005, 2006, 2007, 2008, 2009, 2010, 2011, 2012, 2013, 2014,\n",
              "        2015, 2016, 2017, 2018, 2019, 2020, 2021]),\n",
              " array([35032308, 35629174, 36229830, 36830574, 37426532, 38012359,\n",
              "        38585016, 39140080, 39674811, 40190679, 40693254, 41188093,\n",
              "        41671878, 42170126, 42658630, 43134017, 43608630, 44086292,\n",
              "        44553416, 45001571, 45434942, 45866010, 46313898, 46830116,\n",
              "        47419200, 48258494, 49395678, 50372424, 51049498]))"
            ]
          },
          "metadata": {},
          "execution_count": 13
        }
      ]
    },
    {
      "cell_type": "markdown",
      "metadata": {
        "id": "tmuxT_Yx8kBQ"
      },
      "source": [
        "Como son $28$ años y queremos datos mensuales, haremos una división de $336 (28\\cdot12)$"
      ]
    },
    {
      "cell_type": "code",
      "metadata": {
        "id": "nU_AfYok9TTq"
      },
      "source": [
        "M = 336 #valores intermedios\n",
        "xint1 = np.linspace(x[0], x[28], M)\n",
        "yint1 = interpolate.splev(xint1, sprep, der=0)"
      ],
      "execution_count": 14,
      "outputs": []
    },
    {
      "cell_type": "code",
      "metadata": {
        "colab": {
          "base_uri": "https://localhost:8080/"
        },
        "id": "1tlbC9LpUAGg",
        "outputId": "d1b92ff2-13fc-49c7-bd66-3e84dcca88b0"
      },
      "source": [
        "xint1,yint1"
      ],
      "execution_count": 15,
      "outputs": [
        {
          "output_type": "execute_result",
          "data": {
            "text/plain": [
              "(array([1993.        , 1993.08358209, 1993.16716418, 1993.25074627,\n",
              "        1993.33432836, 1993.41791045, 1993.50149254, 1993.58507463,\n",
              "        1993.66865672, 1993.75223881, 1993.8358209 , 1993.91940299,\n",
              "        1994.00298507, 1994.08656716, 1994.17014925, 1994.25373134,\n",
              "        1994.33731343, 1994.42089552, 1994.50447761, 1994.5880597 ,\n",
              "        1994.67164179, 1994.75522388, 1994.83880597, 1994.92238806,\n",
              "        1995.00597015, 1995.08955224, 1995.17313433, 1995.25671642,\n",
              "        1995.34029851, 1995.4238806 , 1995.50746269, 1995.59104478,\n",
              "        1995.67462687, 1995.75820896, 1995.84179104, 1995.92537313,\n",
              "        1996.00895522, 1996.09253731, 1996.1761194 , 1996.25970149,\n",
              "        1996.34328358, 1996.42686567, 1996.51044776, 1996.59402985,\n",
              "        1996.67761194, 1996.76119403, 1996.84477612, 1996.92835821,\n",
              "        1997.0119403 , 1997.09552239, 1997.17910448, 1997.26268657,\n",
              "        1997.34626866, 1997.42985075, 1997.51343284, 1997.59701493,\n",
              "        1997.68059701, 1997.7641791 , 1997.84776119, 1997.93134328,\n",
              "        1998.01492537, 1998.09850746, 1998.18208955, 1998.26567164,\n",
              "        1998.34925373, 1998.43283582, 1998.51641791, 1998.6       ,\n",
              "        1998.68358209, 1998.76716418, 1998.85074627, 1998.93432836,\n",
              "        1999.01791045, 1999.10149254, 1999.18507463, 1999.26865672,\n",
              "        1999.35223881, 1999.4358209 , 1999.51940299, 1999.60298507,\n",
              "        1999.68656716, 1999.77014925, 1999.85373134, 1999.93731343,\n",
              "        2000.02089552, 2000.10447761, 2000.1880597 , 2000.27164179,\n",
              "        2000.35522388, 2000.43880597, 2000.52238806, 2000.60597015,\n",
              "        2000.68955224, 2000.77313433, 2000.85671642, 2000.94029851,\n",
              "        2001.0238806 , 2001.10746269, 2001.19104478, 2001.27462687,\n",
              "        2001.35820896, 2001.44179104, 2001.52537313, 2001.60895522,\n",
              "        2001.69253731, 2001.7761194 , 2001.85970149, 2001.94328358,\n",
              "        2002.02686567, 2002.11044776, 2002.19402985, 2002.27761194,\n",
              "        2002.36119403, 2002.44477612, 2002.52835821, 2002.6119403 ,\n",
              "        2002.69552239, 2002.77910448, 2002.86268657, 2002.94626866,\n",
              "        2003.02985075, 2003.11343284, 2003.19701493, 2003.28059701,\n",
              "        2003.3641791 , 2003.44776119, 2003.53134328, 2003.61492537,\n",
              "        2003.69850746, 2003.78208955, 2003.86567164, 2003.94925373,\n",
              "        2004.03283582, 2004.11641791, 2004.2       , 2004.28358209,\n",
              "        2004.36716418, 2004.45074627, 2004.53432836, 2004.61791045,\n",
              "        2004.70149254, 2004.78507463, 2004.86865672, 2004.95223881,\n",
              "        2005.0358209 , 2005.11940299, 2005.20298507, 2005.28656716,\n",
              "        2005.37014925, 2005.45373134, 2005.53731343, 2005.62089552,\n",
              "        2005.70447761, 2005.7880597 , 2005.87164179, 2005.95522388,\n",
              "        2006.03880597, 2006.12238806, 2006.20597015, 2006.28955224,\n",
              "        2006.37313433, 2006.45671642, 2006.54029851, 2006.6238806 ,\n",
              "        2006.70746269, 2006.79104478, 2006.87462687, 2006.95820896,\n",
              "        2007.04179104, 2007.12537313, 2007.20895522, 2007.29253731,\n",
              "        2007.3761194 , 2007.45970149, 2007.54328358, 2007.62686567,\n",
              "        2007.71044776, 2007.79402985, 2007.87761194, 2007.96119403,\n",
              "        2008.04477612, 2008.12835821, 2008.2119403 , 2008.29552239,\n",
              "        2008.37910448, 2008.46268657, 2008.54626866, 2008.62985075,\n",
              "        2008.71343284, 2008.79701493, 2008.88059701, 2008.9641791 ,\n",
              "        2009.04776119, 2009.13134328, 2009.21492537, 2009.29850746,\n",
              "        2009.38208955, 2009.46567164, 2009.54925373, 2009.63283582,\n",
              "        2009.71641791, 2009.8       , 2009.88358209, 2009.96716418,\n",
              "        2010.05074627, 2010.13432836, 2010.21791045, 2010.30149254,\n",
              "        2010.38507463, 2010.46865672, 2010.55223881, 2010.6358209 ,\n",
              "        2010.71940299, 2010.80298507, 2010.88656716, 2010.97014925,\n",
              "        2011.05373134, 2011.13731343, 2011.22089552, 2011.30447761,\n",
              "        2011.3880597 , 2011.47164179, 2011.55522388, 2011.63880597,\n",
              "        2011.72238806, 2011.80597015, 2011.88955224, 2011.97313433,\n",
              "        2012.05671642, 2012.14029851, 2012.2238806 , 2012.30746269,\n",
              "        2012.39104478, 2012.47462687, 2012.55820896, 2012.64179104,\n",
              "        2012.72537313, 2012.80895522, 2012.89253731, 2012.9761194 ,\n",
              "        2013.05970149, 2013.14328358, 2013.22686567, 2013.31044776,\n",
              "        2013.39402985, 2013.47761194, 2013.56119403, 2013.64477612,\n",
              "        2013.72835821, 2013.8119403 , 2013.89552239, 2013.97910448,\n",
              "        2014.06268657, 2014.14626866, 2014.22985075, 2014.31343284,\n",
              "        2014.39701493, 2014.48059701, 2014.5641791 , 2014.64776119,\n",
              "        2014.73134328, 2014.81492537, 2014.89850746, 2014.98208955,\n",
              "        2015.06567164, 2015.14925373, 2015.23283582, 2015.31641791,\n",
              "        2015.4       , 2015.48358209, 2015.56716418, 2015.65074627,\n",
              "        2015.73432836, 2015.81791045, 2015.90149254, 2015.98507463,\n",
              "        2016.06865672, 2016.15223881, 2016.2358209 , 2016.31940299,\n",
              "        2016.40298507, 2016.48656716, 2016.57014925, 2016.65373134,\n",
              "        2016.73731343, 2016.82089552, 2016.90447761, 2016.9880597 ,\n",
              "        2017.07164179, 2017.15522388, 2017.23880597, 2017.32238806,\n",
              "        2017.40597015, 2017.48955224, 2017.57313433, 2017.65671642,\n",
              "        2017.74029851, 2017.8238806 , 2017.90746269, 2017.99104478,\n",
              "        2018.07462687, 2018.15820896, 2018.24179104, 2018.32537313,\n",
              "        2018.40895522, 2018.49253731, 2018.5761194 , 2018.65970149,\n",
              "        2018.74328358, 2018.82686567, 2018.91044776, 2018.99402985,\n",
              "        2019.07761194, 2019.16119403, 2019.24477612, 2019.32835821,\n",
              "        2019.4119403 , 2019.49552239, 2019.57910448, 2019.66268657,\n",
              "        2019.74626866, 2019.82985075, 2019.91343284, 2019.99701493,\n",
              "        2020.08059701, 2020.1641791 , 2020.24776119, 2020.33134328,\n",
              "        2020.41492537, 2020.49850746, 2020.58208955, 2020.66567164,\n",
              "        2020.74925373, 2020.83283582, 2020.91641791, 2021.        ]),\n",
              " array([35032308.00000001, 35081965.15885042, 35131671.03722867,\n",
              "        35181423.60648298, 35231220.83796156, 35281060.70301261,\n",
              "        35330941.17298433, 35380860.21922494, 35430815.81308263,\n",
              "        35480805.92590564, 35530828.52904214, 35580881.59384037,\n",
              "        35630963.0916485 , 35681070.99381477, 35731203.2716874 ,\n",
              "        35781357.89661455, 35831532.83994447, 35881726.07302533,\n",
              "        35931935.56720537, 35982159.29383278, 36032395.22425578,\n",
              "        36082641.32982258, 36132895.58188136, 36183155.95178035,\n",
              "        36233420.41081931, 36283686.76696667, 36333952.30030765,\n",
              "        36384214.18447861, 36434469.59311597, 36484715.69985612,\n",
              "        36534949.67833546, 36585168.70219037, 36635369.94505726,\n",
              "        36685550.58057252, 36735707.78237254, 36785838.72409373,\n",
              "        36835940.57918487, 36886010.31485416, 36936044.29815324,\n",
              "        36986038.78756967, 37035990.04159094, 37085894.31870458,\n",
              "        37135747.8773981 , 37185546.97615904, 37235287.8734749 ,\n",
              "        37284966.82783322, 37334580.0977215 , 37384123.94162728,\n",
              "        37433594.61940259, 37482989.08408041, 37532306.10761125,\n",
              "        37581544.75668401, 37630704.09798758, 37679783.19821084,\n",
              "        37728781.12404265, 37777696.94217194, 37826529.71928754,\n",
              "        37875278.52207837, 37923942.4172333 , 37972520.47144121,\n",
              "        38021011.74926627, 38069414.71292712, 38117726.39712908,\n",
              "        38165943.62976713, 38214063.23873626, 38262082.05193148,\n",
              "        38309996.89724774, 38357804.60258006, 38405501.99582342,\n",
              "        38453085.9048728 , 38500553.15762318, 38547900.58196956,\n",
              "        38595125.00793599, 38642223.64444086, 38689194.51267949,\n",
              "        38736035.73880211, 38782745.44895896, 38829321.76930028,\n",
              "        38875762.8259763 , 38922066.74513727, 38968231.65293342,\n",
              "        39014255.67551497, 39060136.93903217, 39105873.56963526,\n",
              "        39151463.70113608, 39196906.39438615, 39242202.510687  ,\n",
              "        39287353.11820025, 39332359.28508749, 39377222.0795103 ,\n",
              "        39421942.5696303 , 39466521.82360907, 39510960.90960821,\n",
              "        39555260.89578932, 39599422.85031398, 39643447.84134381,\n",
              "        39687336.94358288, 39731091.80174917, 39774715.06483196,\n",
              "        39818209.48404685, 39861577.81060938, 39904822.79573517,\n",
              "        39947947.19063976, 39990953.74653878, 40033845.21464778,\n",
              "        40076624.34618235, 40119293.89235807, 40161856.60439052,\n",
              "        40204315.25945214, 40246674.33444437, 40288941.02611276,\n",
              "        40331122.77542522, 40373227.02334964, 40415261.21085392,\n",
              "        40457232.77890593, 40499149.16847359, 40541017.82052478,\n",
              "        40582846.17602739, 40624641.67594932, 40666411.76125845,\n",
              "        40708163.71737416, 40749896.91665118, 40791599.21960881,\n",
              "        40833257.57960741, 40874858.95000732, 40916390.28416885,\n",
              "        40957838.53545237, 40999190.65721818, 41040433.60282665,\n",
              "        41081554.32563809, 41122539.77901284, 41163376.91631122,\n",
              "        41204053.15743801, 41244574.84871837, 41284973.38931658,\n",
              "        41325281.90051018, 41365533.50357664, 41405761.31979351,\n",
              "        41445998.47043828, 41486278.07678846, 41526633.26012157,\n",
              "        41567097.14171512, 41607702.84284661, 41648483.48479357,\n",
              "        41689471.3601612 , 41730671.38467755, 41772055.4806368 ,\n",
              "        41813593.6060729 , 41855255.71901982, 41897011.7775115 ,\n",
              "        41938831.7395819 , 41980685.56326496, 42022543.20659462,\n",
              "        42064374.62760486, 42106149.78432962, 42147838.63480286,\n",
              "        42189411.67552492, 42230854.14109404, 42272167.44387482,\n",
              "        42313353.82341626, 42354415.5192674 , 42395354.77097721,\n",
              "        42436173.81809473, 42476874.90016895, 42517460.25674888,\n",
              "        42557932.12738355, 42598292.75162194, 42638544.36901309,\n",
              "        42678689.3655064 , 42718733.49426102, 42758685.87564572,\n",
              "        42798555.77642974, 42838352.46338229, 42878085.2032726 ,\n",
              "        42917763.26286989, 42957395.90894339, 42996992.40826232,\n",
              "        43036562.0275959 , 43076114.03371334, 43115657.69338387,\n",
              "        43155202.13677958, 43194753.82255625, 43234316.77559312,\n",
              "        43273894.93184974, 43313492.22728567, 43353112.59786043,\n",
              "        43392759.9795336 , 43432438.30826473, 43472151.52001336,\n",
              "        43511903.55073908, 43551698.3364014 , 43591539.81295989,\n",
              "        43631431.43270352, 43671368.52376714, 43711339.67312697,\n",
              "        43751333.2637107 , 43791337.67844604, 43831341.3002607 ,\n",
              "        43871332.51208238, 43911299.69683877, 43951231.23745759,\n",
              "        43991115.51686653, 44030940.91799331, 44070695.82376562,\n",
              "        44110368.86138009, 44149952.21159179, 44189440.73972745,\n",
              "        44228829.37728963, 44268113.0557809 , 44307286.70670383,\n",
              "        44346345.26156096, 44385283.6518549 , 44424096.80908817,\n",
              "        44462779.66476337, 44501327.15038305, 44539734.19744976,\n",
              "        44577996.06611443, 44616112.18707053, 44654084.85778067,\n",
              "        44691916.43206003, 44729609.26372378, 44767165.70658711,\n",
              "        44804588.11446519, 44841878.84117319, 44879040.24052632,\n",
              "        44916074.66633973, 44952984.4724286 , 44989772.01260813,\n",
              "        45026440.0552784 , 45062995.98597004, 45099450.07562555,\n",
              "        45135812.63925111, 45172093.99185286, 45208304.44843695,\n",
              "        45244454.32400955, 45280553.93357681, 45316613.59214484,\n",
              "        45352643.61471985, 45388654.31630795, 45424656.01191533,\n",
              "        45460658.39684512, 45496665.07843837, 45532676.20857228,\n",
              "        45568691.89946304, 45604712.26332682, 45640737.41237985,\n",
              "        45676767.45883831, 45712802.51491839, 45748842.69283631,\n",
              "        45784888.10480825, 45820938.86305049, 45856995.07977907,\n",
              "        45893060.81312074, 45929174.4652379 , 45965392.12181777,\n",
              "        46001770.01469234, 46038364.37569365, 46075231.4366537 ,\n",
              "        46112427.42940452, 46150008.58577812, 46188031.13760652,\n",
              "        46226551.31672175, 46265625.35495582, 46305309.48414075,\n",
              "        46345651.78626034, 46386637.26922888, 46428221.51945749,\n",
              "        46470359.95803355, 46513008.00604448, 46556121.08457766,\n",
              "        46599654.61472048, 46643564.01756031, 46687804.71418456,\n",
              "        46732332.12568061, 46777101.67313585, 46822068.77763767,\n",
              "        46867205.72386158, 46912601.19779161, 46958393.0014611 ,\n",
              "        47004719.11015473, 47051717.49915712, 47099526.14375291,\n",
              "        47148283.01922679, 47198126.10086336, 47249193.3639473 ,\n",
              "        47301622.78376326, 47355552.33559588, 47411119.99472981,\n",
              "        47468461.21867187, 47527695.92697589, 47588938.11775528,\n",
              "        47652301.77746703, 47717900.89256819, 47785849.44951571,\n",
              "        47856261.43476665, 47929250.83477801, 48004931.63600681,\n",
              "        48083417.82491004, 48164823.38794474, 48249262.3115679 ,\n",
              "        48336784.41939961, 48427084.83468449, 48519736.78975589,\n",
              "        48614313.40607373, 48710387.80509803, 48807533.10828871,\n",
              "        48905322.43710574, 49003328.91300907, 49101125.65745868,\n",
              "        49198285.79191452, 49294382.43783653, 49388988.71668469,\n",
              "        49481733.08799069, 49572518.43472356, 49661332.54865507,\n",
              "        49748163.24674508, 49832998.34595347, 49915825.66324008,\n",
              "        49996633.01556474, 50075408.2198873 , 50152139.09316763,\n",
              "        50226813.45236555, 50299419.11444093, 50369943.89635361,\n",
              "        50438375.61506344, 50504702.08753026, 50568911.13071394,\n",
              "        50630990.5615743 , 50690928.19707121, 50748711.85416451,\n",
              "        50804329.34981404, 50857768.50097966, 50909017.12462123,\n",
              "        50958063.03769857, 51004894.05717155, 51049498.        ]))"
            ]
          },
          "metadata": {},
          "execution_count": 15
        }
      ]
    },
    {
      "cell_type": "code",
      "metadata": {
        "colab": {
          "base_uri": "https://localhost:8080/",
          "height": 350
        },
        "id": "0wqdFkD4-pxZ",
        "outputId": "d86403f5-fd1b-4cb0-b390-9120e8445d73"
      },
      "source": [
        "plt.figure(figsize = (7,5))\n",
        "plt.plot(tabla['Año'], tabla['Población'],'.') #datos originales en puntos azules\n",
        "plt.plot(xint1,yint1, 'orange') #datos con interpolación cúbica en naranja\n",
        "plt.title('Interpolación cúbica',)\n",
        "plt.xlabel('Año')\n",
        "plt.ylabel('Población')\n",
        "plt.show()"
      ],
      "execution_count": 16,
      "outputs": [
        {
          "output_type": "display_data",
          "data": {
            "image/png": "[encoded data removed]",
            "text/plain": [
              "<Figure size 504x360 with 1 Axes>"
            ]
          },
          "metadata": {
            "needs_background": "light"
          }
        }
      ]
    },
    {
      "cell_type": "markdown",
      "metadata": {
        "id": "U3XkQ7jn_cjg"
      },
      "source": [
        "Con base en dicha interpolación, veremos en cuál mes de cuál año se presentó el cambio más drástico en la población."
      ]
    },
    {
      "cell_type": "code",
      "metadata": {
        "id": "RpNEYsNx_qvi"
      },
      "source": [
        "diff_pob = np.diff(yint1) #hallamos las primeras diferencias"
      ],
      "execution_count": 18,
      "outputs": []
    },
    {
      "cell_type": "code",
      "metadata": {
        "colab": {
          "base_uri": "https://localhost:8080/",
          "height": 499
        },
        "id": "sJZQC5vU_qhP",
        "outputId": "dccc7001-b1b0-4036-d05c-21f09c702806"
      },
      "source": [
        "plt.figure(figsize = (10,8))\n",
        "plt.title('Differencias poblacionales')\n",
        "plt.plot(diff_pob)\n",
        "plt.show()"
      ],
      "execution_count": 19,
      "outputs": [
        {
          "output_type": "display_data",
          "data": {
            "image/png": "[encoded data removed]",
            "text/plain": [
              "<Figure size 720x576 with 1 Axes>"
            ]
          },
          "metadata": {
            "needs_background": "light"
          }
        }
      ]
    },
    {
      "cell_type": "code",
      "metadata": {
        "colab": {
          "base_uri": "https://localhost:8080/"
        },
        "id": "7LG7rMK6TKPc",
        "outputId": "ea5341c7-52c6-47ac-f2f4-2085c8444c8f"
      },
      "source": [
        "diff_pob"
      ],
      "execution_count": 20,
      "outputs": [
        {
          "output_type": "execute_result",
          "data": {
            "text/plain": [
              "array([49657.15885042, 49705.87837825, 49752.56925431, 49797.23147858,\n",
              "       49839.86505105, 49880.46997172, 49919.04624061, 49955.59385769,\n",
              "       49990.11282301, 50022.6031365 , 50053.06479823, 50081.49780814,\n",
              "       50107.90216627, 50132.27787262, 50154.62492716, 50174.94332992,\n",
              "       50193.23308086, 50209.49418004, 50223.72662741, 50235.930423  ,\n",
              "       50246.1055668 , 50254.25205878, 50260.36989899, 50264.45903896,\n",
              "       50266.35614736, 50265.53334098, 50261.88417096, 50255.40863736,\n",
              "       50246.10674015, 50233.97847933, 50219.02385491, 50201.24286689,\n",
              "       50180.63551527, 50157.20180002, 50130.94172119, 50101.85509115,\n",
              "       50069.73566929, 50033.98329908, 49994.48941643, 49951.25402126,\n",
              "       49904.27711364, 49853.55869352, 49799.09876095, 49740.89731586,\n",
              "       49678.95435832, 49613.26988828, 49543.84390578, 49470.67777532,\n",
              "       49394.46467781, 49317.02353085, 49238.64907275, 49159.34130358,\n",
              "       49079.10022325, 48997.92583182, 48915.81812929, 48832.7771156 ,\n",
              "       48748.80279083, 48663.89515494, 48578.05420791, 48491.27782506,\n",
              "       48402.96366084, 48311.68420196, 48217.23263805, 48119.60896914,\n",
              "       48018.81319521, 47914.84531626, 47807.70533232, 47697.39324336,\n",
              "       47583.90904938, 47467.25275037, 47347.42434638, 47224.42596643,\n",
              "       47098.63650487, 46970.86823863, 46841.22612262, 46709.71015685,\n",
              "       46576.32034133, 46441.05667602, 46303.91916097, 46164.90779614,\n",
              "       46024.02258155, 45881.2635172 , 45736.63060309, 45590.13150083,\n",
              "       45442.69325007, 45296.11630085, 45150.60751325, 45006.16688724,\n",
              "       44862.79442281, 44720.49011999, 44579.25397877, 44439.08599914,\n",
              "       44299.98618111, 44161.95452467, 44024.99102982, 43889.10223907,\n",
              "       43754.85816629, 43623.26308279, 43494.41921488, 43368.32656253,\n",
              "       43244.98512579, 43124.3949046 , 43006.55589902, 42891.468109  ,\n",
              "       42779.13153458, 42669.54617572, 42562.71203245, 42458.65506162,\n",
              "       42359.07499222, 42266.69166839, 42181.74931246, 42104.24792442,\n",
              "       42034.18750428, 41971.56805201, 41916.38956766, 41868.6520512 ,\n",
              "       41828.35550261, 41795.49992193, 41770.08530913, 41751.95611571,\n",
              "       41733.19927702, 41702.30295762, 41658.35999861, 41601.37039991,\n",
              "       41531.33416153, 41448.25128351, 41352.12176581, 41242.94560847,\n",
              "       41120.72281145, 40985.45337474, 40837.13729838, 40676.24112679,\n",
              "       40521.69128036, 40398.54059821, 40308.5111936 , 40251.60306646,\n",
              "       40227.81621687, 40237.15064477, 40279.60635018, 40355.18333311,\n",
              "       40463.88159355, 40605.70113149, 40780.64194696, 40987.87536763,\n",
              "       41200.02451635, 41384.09595925, 41538.1254361 , 41662.11294692,\n",
              "       41756.05849168, 41819.9620704 , 41853.82368306, 41857.64332967,\n",
              "       41831.42101023, 41775.15672477, 41688.85047323, 41573.04072206,\n",
              "       41442.46556912, 41313.30278078, 41186.37954144, 41061.69585114,\n",
              "       40939.25170981, 40819.04711752, 40701.08207422, 40585.35657993,\n",
              "       40471.87063467, 40360.62423839, 40251.61739115, 40144.99649332,\n",
              "       40044.12875462, 39952.3813847 , 39869.90078402, 39796.68695255,\n",
              "       39732.73989031, 39678.05959729, 39632.6460735 , 39596.49931893,\n",
              "       39569.61933358, 39552.00611744, 39543.65967053, 39544.4433957 ,\n",
              "       39551.68577667, 39562.95303687, 39578.15625662, 39597.29543593,\n",
              "       39620.37057476, 39647.38167317, 39678.32873113, 39713.21174863,\n",
              "       39752.03072572, 39794.78566232, 39841.47655848, 39891.61974364,\n",
              "       39937.09106362, 39971.14935982, 39993.59058373, 40004.41473534,\n",
              "       40003.62181466, 39991.21182168, 39967.1847564 , 39931.54061881,\n",
              "       39884.27940894, 39825.40112678, 39754.90577231, 39673.03761446,\n",
              "       39583.3502117 , 39488.52813566, 39388.63756218, 39283.67849126,\n",
              "       39173.65092293, 39058.55485713, 38938.39029393, 38813.15723328,\n",
              "       38682.8556752 , 38547.48561968, 38407.04706671, 38261.86866467,\n",
              "       38116.1209561 , 37972.67071014, 37831.57427936, 37692.83166375,\n",
              "       37556.44286333, 37422.40787809, 37290.72670799, 37161.39935313,\n",
              "       37034.42581341, 36909.80608888, 36787.54017953, 36668.04267026,\n",
              "       36555.93069164, 36454.08965551, 36362.56362556, 36281.35260175,\n",
              "       36210.4565841 , 36149.8755726 , 36099.60956725, 36059.65856803,\n",
              "       36030.02257501, 36010.7015881 , 36001.69560737, 36002.3849298 ,\n",
              "       36006.68159325, 36011.1301339 , 36015.69089076, 36020.36386378,\n",
              "       36025.14905303, 36030.04645846, 36035.05608009, 36040.17791792,\n",
              "       36045.41197193, 36050.75824224, 36056.21672858, 36065.73334167,\n",
              "       36113.65211716, 36217.65657987, 36377.89287458, 36594.36100131,\n",
              "       36867.06096005, 37195.99275082, 37581.1563736 , 38022.55182841,\n",
              "       38520.17911523, 39074.03823407, 39684.12918492, 40342.30211959,\n",
              "       40985.48296854, 41584.25022861, 42138.43857607, 42648.04801093,\n",
              "       43113.07853318, 43533.53014281, 43909.40283983, 44240.69662425,\n",
              "       44527.41149605, 44769.54745524, 44967.10450182, 45136.94622391,\n",
              "       45395.47393003, 45791.80366949, 46326.10869362, 46998.38900239,\n",
              "       47808.64459579, 48756.87547388, 49843.08163657, 51067.26308394,\n",
              "       52429.41981596, 53929.55183262, 55567.65913393, 57341.22394206,\n",
              "       59234.70830403, 61242.19077939, 63363.65971175, 65599.11510116,\n",
              "       67948.55694752, 70411.98525094, 72989.40001136, 75680.8012288 ,\n",
              "       78486.18890323, 81405.56303471, 84438.92362316, 87522.10783171,\n",
              "       90300.41528488, 92651.9550714 , 94576.61631784, 96074.3990243 ,\n",
              "       97145.30319068, 97789.32881703, 98006.47590333, 97796.74444961,\n",
              "       97160.13445584, 96096.64592201, 94606.27884816, 92744.37130599,\n",
              "       90785.34673287, 88814.11393151, 86830.69809001, 84835.09920839,\n",
              "       82827.3172866 , 80807.35232466, 78775.20432256, 76730.87328032,\n",
              "       74674.35919792, 72605.66207539, 70524.78191268, 68431.71870983,\n",
              "       66326.47246681, 64209.04318368, 62079.43086036, 59937.63549691,\n",
              "       57783.6570933 , 55617.49564953, 53439.15116562, 51248.62364157,\n",
              "       49045.91307735, 46831.01947297, 44603.94282845])"
            ]
          },
          "metadata": {},
          "execution_count": 20
        }
      ]
    },
    {
      "cell_type": "code",
      "metadata": {
        "colab": {
          "base_uri": "https://localhost:8080/"
        },
        "id": "e0nnft8oVO6t",
        "outputId": "a0fe5fb5-86e3-4cb1-81d5-7f43b2675654"
      },
      "source": [
        "max_dif = max(diff_pob) #buscamos el valor máximo entre las diferencias\n",
        "max_dif"
      ],
      "execution_count": 21,
      "outputs": [
        {
          "output_type": "execute_result",
          "data": {
            "text/plain": [
              "98006.47590333223"
            ]
          },
          "metadata": {},
          "execution_count": 21
        }
      ]
    },
    {
      "cell_type": "code",
      "metadata": {
        "colab": {
          "base_uri": "https://localhost:8080/"
        },
        "id": "ScK1XP_WW9qL",
        "outputId": "fea96a6e-72ee-4b98-bfb9-23cb18e06553"
      },
      "source": [
        "np.where(diff_pob == max_dif) #hallamos la posición de la máxima diferencia"
      ],
      "execution_count": 22,
      "outputs": [
        {
          "output_type": "execute_result",
          "data": {
            "text/plain": [
              "(array([306]),)"
            ]
          },
          "metadata": {},
          "execution_count": 22
        }
      ]
    },
    {
      "cell_type": "code",
      "metadata": {
        "colab": {
          "base_uri": "https://localhost:8080/"
        },
        "id": "lhB9zprKZpTy",
        "outputId": "ae56132a-218d-47a9-eca5-7c7fb486c74a"
      },
      "source": [
        "int(1993 + (306/12)) #dividimos por 12 y sumamos al año 0 para hallar el año, usando la función piso"
      ],
      "execution_count": 23,
      "outputs": [
        {
          "output_type": "execute_result",
          "data": {
            "text/plain": [
              "2018"
            ]
          },
          "metadata": {},
          "execution_count": 23
        }
      ]
    },
    {
      "cell_type": "code",
      "metadata": {
        "colab": {
          "base_uri": "https://localhost:8080/"
        },
        "id": "RdvAN5Q1ZpJx",
        "outputId": "2a9f4522-83be-4e4e-ed1b-dee2faa256a5"
      },
      "source": [
        "306%12 #aplicamos función módulo para hallar el mes"
      ],
      "execution_count": 24,
      "outputs": [
        {
          "output_type": "execute_result",
          "data": {
            "text/plain": [
              "6"
            ]
          },
          "metadata": {},
          "execution_count": 24
        }
      ]
    },
    {
      "cell_type": "markdown",
      "metadata": {
        "id": "rOsrP-4WZzLw"
      },
      "source": [
        "El cambio poblacional más fuerte ocurrió en el mes de junio del año 2018."
      ]
    },
    {
      "cell_type": "markdown",
      "metadata": {
        "id": "f9FPD3xm_qBl"
      },
      "source": [
        "Ahora haremos varios ajustes de curva polinomial para elegir el que mejor representa los datos poblacionales."
      ]
    },
    {
      "cell_type": "code",
      "metadata": {
        "id": "oHInWIcE-2FK"
      },
      "source": [
        "tabla_predicciones = tabla.copy()"
      ],
      "execution_count": 25,
      "outputs": []
    },
    {
      "cell_type": "code",
      "metadata": {
        "id": "wO4aEJY_-1_y"
      },
      "source": [
        "y2 = np.array(tabla_predicciones['Población'])\n",
        "x2 = np.array(tabla_predicciones['Año'])"
      ],
      "execution_count": 27,
      "outputs": []
    },
    {
      "cell_type": "code",
      "metadata": {
        "colab": {
          "base_uri": "https://localhost:8080/"
        },
        "id": "shcqjWH0AKL6",
        "outputId": "844aa233-c6c6-4db8-df05-d30f50a9aa7c"
      },
      "source": [
        "x2,y2"
      ],
      "execution_count": 28,
      "outputs": [
        {
          "output_type": "execute_result",
          "data": {
            "text/plain": [
              "(array([1993, 1994, 1995, 1996, 1997, 1998, 1999, 2000, 2001, 2002, 2003,\n",
              "        2004, 2005, 2006, 2007, 2008, 2009, 2010, 2011, 2012, 2013, 2014,\n",
              "        2015, 2016, 2017, 2018, 2019, 2020, 2021]),\n",
              " array([35032308, 35629174, 36229830, 36830574, 37426532, 38012359,\n",
              "        38585016, 39140080, 39674811, 40190679, 40693254, 41188093,\n",
              "        41671878, 42170126, 42658630, 43134017, 43608630, 44086292,\n",
              "        44553416, 45001571, 45434942, 45866010, 46313898, 46830116,\n",
              "        47419200, 48258494, 49395678, 50372424, 51049498]))"
            ]
          },
          "metadata": {},
          "execution_count": 28
        }
      ]
    },
    {
      "cell_type": "code",
      "metadata": {
        "id": "sSKFnGqiANPg"
      },
      "source": [
        "from numpy.polynomial.polynomial import polyval"
      ],
      "execution_count": 29,
      "outputs": []
    },
    {
      "cell_type": "markdown",
      "metadata": {
        "id": "47l33WE2AvH-"
      },
      "source": [
        "#### Ajuste grado 1"
      ]
    },
    {
      "cell_type": "code",
      "metadata": {
        "id": "B7yYgFKsAWhl"
      },
      "source": [
        "grad = 1\n",
        "c = np.polyfit(x2, y2, grad)"
      ],
      "execution_count": 33,
      "outputs": []
    },
    {
      "cell_type": "code",
      "metadata": {
        "colab": {
          "base_uri": "https://localhost:8080/"
        },
        "id": "ENUuW49WAeXq",
        "outputId": "a400c927-34f4-49e8-ba00-45960bb71135"
      },
      "source": [
        "c"
      ],
      "execution_count": 34,
      "outputs": [
        {
          "output_type": "execute_result",
          "data": {
            "text/plain": [
              "array([ 5.29747365e+05, -1.02056650e+09])"
            ]
          },
          "metadata": {},
          "execution_count": 34
        }
      ]
    },
    {
      "cell_type": "code",
      "metadata": {
        "colab": {
          "base_uri": "https://localhost:8080/",
          "height": 336
        },
        "id": "XSx7yHirAfOi",
        "outputId": "0321438c-d024-4928-f803-4fdcac539863"
      },
      "source": [
        "tabla_predicciones['Ajuste grado 1'] = np.polyval(c, tabla_predicciones['Año'])\n",
        "\n",
        "plt.figure(figsize = (7,5))\n",
        "plt.title('Regresión lineal simple')\n",
        "plt.plot(tabla_predicciones['Año'], tabla_predicciones['Población'],'.')\n",
        "plt.plot(tabla_predicciones['Año'], tabla_predicciones['Ajuste grado 1'])\n",
        "plt.show()"
      ],
      "execution_count": 35,
      "outputs": [
        {
          "output_type": "display_data",
          "data": {
            "image/png": "[encoded data removed]",
            "text/plain": [
              "<Figure size 504x360 with 1 Axes>"
            ]
          },
          "metadata": {
            "needs_background": "light"
          }
        }
      ]
    },
    {
      "cell_type": "markdown",
      "metadata": {
        "id": "puzi7TW7Ax0r"
      },
      "source": [
        "### Ajuste grado 2"
      ]
    },
    {
      "cell_type": "code",
      "metadata": {
        "id": "nHenaXN-AnWK"
      },
      "source": [
        "grad = 2\n",
        "c = np.polyfit(x2, y2, grad)"
      ],
      "execution_count": 36,
      "outputs": []
    },
    {
      "cell_type": "code",
      "metadata": {
        "colab": {
          "base_uri": "https://localhost:8080/"
        },
        "id": "49AAq-5NA0Ig",
        "outputId": "2e3a1428-28b5-429a-d119-42d68255d3c5"
      },
      "source": [
        "c"
      ],
      "execution_count": 37,
      "outputs": [
        {
          "output_type": "execute_result",
          "data": {
            "text/plain": [
              "array([ 1.65412731e+03, -6.10991966e+06,  5.64222358e+09])"
            ]
          },
          "metadata": {},
          "execution_count": 37
        }
      ]
    },
    {
      "cell_type": "code",
      "metadata": {
        "colab": {
          "base_uri": "https://localhost:8080/",
          "height": 336
        },
        "id": "AaoXtqGOAz3W",
        "outputId": "60bd3efd-e159-44b9-a643-3d42b421a215"
      },
      "source": [
        "tabla_predicciones['Ajuste grado 2'] = np.polyval(c, tabla_predicciones['Año'])\n",
        "\n",
        "plt.figure(figsize = (7,5))\n",
        "plt.title('Ajuste grado 2')\n",
        "plt.plot(tabla_predicciones['Año'], tabla_predicciones['Población'],'.')\n",
        "plt.plot(tabla_predicciones['Año'], tabla_predicciones['Ajuste grado 2'])\n",
        "plt.show()"
      ],
      "execution_count": 38,
      "outputs": [
        {
          "output_type": "display_data",
          "data": {
            "image/png": "[encoded data removed]",
            "text/plain": [
              "<Figure size 504x360 with 1 Axes>"
            ]
          },
          "metadata": {
            "needs_background": "light"
          }
        }
      ]
    },
    {
      "cell_type": "markdown",
      "metadata": {
        "id": "GGskRg7nBR58"
      },
      "source": [
        "### Ajuste grado 3"
      ]
    },
    {
      "cell_type": "code",
      "metadata": {
        "id": "2N-Pw8EOAz0g"
      },
      "source": [
        "grad = 3\n",
        "c = np.polyfit(x2, y2, grad)"
      ],
      "execution_count": 39,
      "outputs": []
    },
    {
      "cell_type": "code",
      "metadata": {
        "colab": {
          "base_uri": "https://localhost:8080/"
        },
        "id": "duLW-1kLAzxv",
        "outputId": "f616b021-9b51-4a9c-b0f7-f2adbd50066b"
      },
      "source": [
        "c"
      ],
      "execution_count": 40,
      "outputs": [
        {
          "output_type": "execute_result",
          "data": {
            "text/plain": [
              "array([ 6.42371964e+02, -3.86606747e+06,  7.75632651e+09, -5.18731962e+12])"
            ]
          },
          "metadata": {},
          "execution_count": 40
        }
      ]
    },
    {
      "cell_type": "code",
      "metadata": {
        "colab": {
          "base_uri": "https://localhost:8080/",
          "height": 336
        },
        "id": "QF5TQ70QBXuB",
        "outputId": "2b3ecf7d-494b-4869-d3fb-a69ac76c3d83"
      },
      "source": [
        "tabla_predicciones['Ajuste grado 3'] = np.polyval(c, tabla_predicciones['Año'])\n",
        "\n",
        "plt.figure(figsize = (7,5))\n",
        "plt.title('Ajuste grado 3')\n",
        "plt.plot(tabla_predicciones['Año'], tabla_predicciones['Población'],'.')\n",
        "plt.plot(tabla_predicciones['Año'], tabla_predicciones['Ajuste grado 3'])\n",
        "plt.show()"
      ],
      "execution_count": 41,
      "outputs": [
        {
          "output_type": "display_data",
          "data": {
            "image/png": "[encoded data removed]",
            "text/plain": [
              "<Figure size 504x360 with 1 Axes>"
            ]
          },
          "metadata": {
            "needs_background": "light"
          }
        }
      ]
    },
    {
      "cell_type": "markdown",
      "metadata": {
        "id": "mTJscAOZBhIS"
      },
      "source": [
        "### Ajuste grado 4"
      ]
    },
    {
      "cell_type": "code",
      "metadata": {
        "id": "kM8gtKQCBhwY"
      },
      "source": [
        "grad = 4\n",
        "c = np.polyfit(x2, y2, grad)"
      ],
      "execution_count": 42,
      "outputs": []
    },
    {
      "cell_type": "code",
      "metadata": {
        "colab": {
          "base_uri": "https://localhost:8080/"
        },
        "id": "9frCt8SGBhtK",
        "outputId": "483eb894-4a56-48da-c894-42ab0a59843b"
      },
      "source": [
        "c"
      ],
      "execution_count": 43,
      "outputs": [
        {
          "output_type": "execute_result",
          "data": {
            "text/plain": [
              "array([ 4.21427259e+01, -3.37679431e+05,  1.01464417e+09, -1.35499014e+12,\n",
              "        6.78555505e+14])"
            ]
          },
          "metadata": {},
          "execution_count": 43
        }
      ]
    },
    {
      "cell_type": "code",
      "metadata": {
        "colab": {
          "base_uri": "https://localhost:8080/",
          "height": 336
        },
        "id": "vUfaUy2wBhp_",
        "outputId": "3164d05c-f8ac-4dc7-f8cf-83107eb8f0dd"
      },
      "source": [
        "tabla_predicciones['Ajuste grado 4'] = np.polyval(c, tabla_predicciones['Año'])\n",
        "\n",
        "plt.figure(figsize = (7,5))\n",
        "plt.title('Ajuste grado 4')\n",
        "plt.plot(tabla_predicciones['Año'], tabla_predicciones['Población'],'.')\n",
        "plt.plot(tabla_predicciones['Año'], tabla_predicciones['Ajuste grado 4'])\n",
        "plt.show()"
      ],
      "execution_count": 44,
      "outputs": [
        {
          "output_type": "display_data",
          "data": {
            "image/png": "[encoded data removed]",
            "text/plain": [
              "<Figure size 504x360 with 1 Axes>"
            ]
          },
          "metadata": {
            "needs_background": "light"
          }
        }
      ]
    },
    {
      "cell_type": "markdown",
      "metadata": {
        "id": "ZN9Gjf_fCXh4"
      },
      "source": [
        "### Ajuste grado 5"
      ]
    },
    {
      "cell_type": "code",
      "metadata": {
        "id": "wF3q9nzsBhkA"
      },
      "source": [
        "grad = 5\n",
        "c = np.polyfit(x2, y2, grad)"
      ],
      "execution_count": 45,
      "outputs": []
    },
    {
      "cell_type": "code",
      "metadata": {
        "colab": {
          "base_uri": "https://localhost:8080/"
        },
        "id": "VIl3CbJ9Bctn",
        "outputId": "22879200-38ca-47cd-f9d1-ec614a19fb70"
      },
      "source": [
        "c"
      ],
      "execution_count": 46,
      "outputs": [
        {
          "output_type": "execute_result",
          "data": {
            "text/plain": [
              "array([ 1.59483984e+00, -1.59620785e+04,  6.39029091e+07, -1.27914762e+11,\n",
              "        1.28023465e+14, -5.12527729e+16])"
            ]
          },
          "metadata": {},
          "execution_count": 46
        }
      ]
    },
    {
      "cell_type": "code",
      "metadata": {
        "colab": {
          "base_uri": "https://localhost:8080/",
          "height": 336
        },
        "id": "eo1uN2aoCbzH",
        "outputId": "1278d36c-41a8-492a-8993-518b3d6437ed"
      },
      "source": [
        "tabla_predicciones['Ajuste grado 5'] = np.polyval(c, tabla_predicciones['Año'])\n",
        "\n",
        "plt.figure(figsize = (7,5))\n",
        "plt.title('Ajuste grado 5')\n",
        "plt.plot(tabla_predicciones['Año'], tabla_predicciones['Población'],'.')\n",
        "plt.plot(tabla_predicciones['Año'], tabla_predicciones['Ajuste grado 5'])\n",
        "plt.show()"
      ],
      "execution_count": 47,
      "outputs": [
        {
          "output_type": "display_data",
          "data": {
            "image/png": "[encoded data removed]",
            "text/plain": [
              "<Figure size 504x360 with 1 Axes>"
            ]
          },
          "metadata": {
            "needs_background": "light"
          }
        }
      ]
    },
    {
      "cell_type": "markdown",
      "metadata": {
        "id": "vLwZ0YmFCoUt"
      },
      "source": [
        "### Ajuste grado 6"
      ]
    },
    {
      "cell_type": "code",
      "metadata": {
        "colab": {
          "base_uri": "https://localhost:8080/"
        },
        "id": "Xfa7G5oFCg1B",
        "outputId": "f52524e8-3eb5-4cdb-edee-fec78213bd7d"
      },
      "source": [
        "grad = 6\n",
        "c = np.polyfit(x2, y2, grad)"
      ],
      "execution_count": 48,
      "outputs": [
        {
          "output_type": "stream",
          "name": "stderr",
          "text": [
            "/usr/local/lib/python3.7/dist-packages/IPython/core/interactiveshell.py:2882: RankWarning: Polyfit may be poorly conditioned\n",
            "  exec(code_obj, self.user_global_ns, self.user_ns)\n"
          ]
        }
      ]
    },
    {
      "cell_type": "code",
      "metadata": {
        "colab": {
          "base_uri": "https://localhost:8080/"
        },
        "id": "lHNWHEcYCtbu",
        "outputId": "36541be8-a8bb-4d72-8fec-4d53dadddb33"
      },
      "source": [
        "c"
      ],
      "execution_count": 49,
      "outputs": [
        {
          "output_type": "execute_result",
          "data": {
            "text/plain": [
              "array([ 3.94314200e-04, -3.15599610e+00,  7.88769891e+03,  4.78550364e+04,\n",
              "       -3.17476284e+10,  5.07812505e+13, -2.54022438e+16])"
            ]
          },
          "metadata": {},
          "execution_count": 49
        }
      ]
    },
    {
      "cell_type": "code",
      "metadata": {
        "colab": {
          "base_uri": "https://localhost:8080/",
          "height": 336
        },
        "id": "2YJB_8kjCtY7",
        "outputId": "ce5177ab-8561-4071-eb02-ee87bcef3b91"
      },
      "source": [
        "tabla_predicciones['Ajuste grado 6'] = np.polyval(c, tabla_predicciones['Año'])\n",
        "\n",
        "plt.figure(figsize = (7,5))\n",
        "plt.title('Ajuste grado 6')\n",
        "plt.plot(tabla_predicciones['Año'], tabla_predicciones['Población'],'.')\n",
        "plt.plot(tabla_predicciones['Año'], tabla_predicciones['Ajuste grado 6'])\n",
        "plt.show()"
      ],
      "execution_count": 50,
      "outputs": [
        {
          "output_type": "display_data",
          "data": {
            "image/png": "[encoded data removed]",
            "text/plain": [
              "<Figure size 504x360 with 1 Axes>"
            ]
          },
          "metadata": {
            "needs_background": "light"
          }
        }
      ]
    },
    {
      "cell_type": "code",
      "metadata": {
        "colab": {
          "base_uri": "https://localhost:8080/",
          "height": 959
        },
        "id": "UuvhukW_CtVL",
        "outputId": "5f53747c-52a2-444e-8ec0-b6522f09d8b4"
      },
      "source": [
        "display(tabla_predicciones)"
      ],
      "execution_count": 51,
      "outputs": [
        {
          "output_type": "display_data",
          "data": {
            "text/html": [
              "<div>\n",
              "<style scoped>\n",
              "    .dataframe tbody tr th:only-of-type {\n",
              "        vertical-align: middle;\n",
              "    }\n",
              "\n",
              "    .dataframe tbody tr th {\n",
              "        vertical-align: top;\n",
              "    }\n",
              "\n",
              "    .dataframe thead th {\n",
              "        text-align: right;\n",
              "    }\n",
              "</style>\n",
              "<table border=\"1\" class=\"dataframe\">\n",
              "  <thead>\n",
              "    <tr style=\"text-align: right;\">\n",
              "      <th></th>\n",
              "      <th>Año</th>\n",
              "      <th>Población</th>\n",
              "      <th>Ajuste grado 1</th>\n",
              "      <th>Ajuste grado 2</th>\n",
              "      <th>Ajuste grado 3</th>\n",
              "      <th>Ajuste grado 4</th>\n",
              "      <th>Ajuste grado 5</th>\n",
              "      <th>Ajuste grado 6</th>\n",
              "    </tr>\n",
              "  </thead>\n",
              "  <tbody>\n",
              "    <tr>\n",
              "      <th>0</th>\n",
              "      <td>1993</td>\n",
              "      <td>35032308</td>\n",
              "      <td>3.522000e+07</td>\n",
              "      <td>3.542842e+07</td>\n",
              "      <td>3.479710e+07</td>\n",
              "      <td>3.509294e+07</td>\n",
              "      <td>35018104.0</td>\n",
              "      <td>35018624.0</td>\n",
              "    </tr>\n",
              "    <tr>\n",
              "      <th>1</th>\n",
              "      <td>1994</td>\n",
              "      <td>35629174</td>\n",
              "      <td>3.574975e+07</td>\n",
              "      <td>3.591351e+07</td>\n",
              "      <td>3.555275e+07</td>\n",
              "      <td>3.563728e+07</td>\n",
              "      <td>35642464.0</td>\n",
              "      <td>35642636.0</td>\n",
              "    </tr>\n",
              "    <tr>\n",
              "      <th>2</th>\n",
              "      <td>1995</td>\n",
              "      <td>36229830</td>\n",
              "      <td>3.627950e+07</td>\n",
              "      <td>3.640190e+07</td>\n",
              "      <td>3.626161e+07</td>\n",
              "      <td>3.620526e+07</td>\n",
              "      <td>36249032.0</td>\n",
              "      <td>36249012.0</td>\n",
              "    </tr>\n",
              "    <tr>\n",
              "      <th>3</th>\n",
              "      <td>1996</td>\n",
              "      <td>36830574</td>\n",
              "      <td>3.680925e+07</td>\n",
              "      <td>3.689361e+07</td>\n",
              "      <td>3.692752e+07</td>\n",
              "      <td>3.678809e+07</td>\n",
              "      <td>36841704.0</td>\n",
              "      <td>36841620.0</td>\n",
              "    </tr>\n",
              "    <tr>\n",
              "      <th>4</th>\n",
              "      <td>1997</td>\n",
              "      <td>37426532</td>\n",
              "      <td>3.733899e+07</td>\n",
              "      <td>3.738862e+07</td>\n",
              "      <td>3.755435e+07</td>\n",
              "      <td>3.737800e+07</td>\n",
              "      <td>37423112.0</td>\n",
              "      <td>37423152.0</td>\n",
              "    </tr>\n",
              "    <tr>\n",
              "      <th>5</th>\n",
              "      <td>1998</td>\n",
              "      <td>38012359</td>\n",
              "      <td>3.786874e+07</td>\n",
              "      <td>3.788694e+07</td>\n",
              "      <td>3.814594e+07</td>\n",
              "      <td>3.796822e+07</td>\n",
              "      <td>37995048.0</td>\n",
              "      <td>37995124.0</td>\n",
              "    </tr>\n",
              "    <tr>\n",
              "      <th>6</th>\n",
              "      <td>1999</td>\n",
              "      <td>38585016</td>\n",
              "      <td>3.839849e+07</td>\n",
              "      <td>3.838856e+07</td>\n",
              "      <td>3.870615e+07</td>\n",
              "      <td>3.855299e+07</td>\n",
              "      <td>38558024.0</td>\n",
              "      <td>38558180.0</td>\n",
              "    </tr>\n",
              "    <tr>\n",
              "      <th>7</th>\n",
              "      <td>2000</td>\n",
              "      <td>39140080</td>\n",
              "      <td>3.892823e+07</td>\n",
              "      <td>3.889350e+07</td>\n",
              "      <td>3.923884e+07</td>\n",
              "      <td>3.912758e+07</td>\n",
              "      <td>39112064.0</td>\n",
              "      <td>39112324.0</td>\n",
              "    </tr>\n",
              "    <tr>\n",
              "      <th>8</th>\n",
              "      <td>2001</td>\n",
              "      <td>39674811</td>\n",
              "      <td>3.945798e+07</td>\n",
              "      <td>3.940174e+07</td>\n",
              "      <td>3.974785e+07</td>\n",
              "      <td>3.968825e+07</td>\n",
              "      <td>39656736.0</td>\n",
              "      <td>39656988.0</td>\n",
              "    </tr>\n",
              "    <tr>\n",
              "      <th>9</th>\n",
              "      <td>2002</td>\n",
              "      <td>40190679</td>\n",
              "      <td>3.998773e+07</td>\n",
              "      <td>3.991329e+07</td>\n",
              "      <td>4.023705e+07</td>\n",
              "      <td>4.023228e+07</td>\n",
              "      <td>40191072.0</td>\n",
              "      <td>40191280.0</td>\n",
              "    </tr>\n",
              "    <tr>\n",
              "      <th>10</th>\n",
              "      <td>2003</td>\n",
              "      <td>40693254</td>\n",
              "      <td>4.051748e+07</td>\n",
              "      <td>4.042815e+07</td>\n",
              "      <td>4.071028e+07</td>\n",
              "      <td>4.075797e+07</td>\n",
              "      <td>40714024.0</td>\n",
              "      <td>40714216.0</td>\n",
              "    </tr>\n",
              "    <tr>\n",
              "      <th>11</th>\n",
              "      <td>2004</td>\n",
              "      <td>41188093</td>\n",
              "      <td>4.104722e+07</td>\n",
              "      <td>4.094632e+07</td>\n",
              "      <td>4.117141e+07</td>\n",
              "      <td>4.126461e+07</td>\n",
              "      <td>41224712.0</td>\n",
              "      <td>41224876.0</td>\n",
              "    </tr>\n",
              "    <tr>\n",
              "      <th>12</th>\n",
              "      <td>2005</td>\n",
              "      <td>41671878</td>\n",
              "      <td>4.157697e+07</td>\n",
              "      <td>4.146780e+07</td>\n",
              "      <td>4.162428e+07</td>\n",
              "      <td>4.175252e+07</td>\n",
              "      <td>41722344.0</td>\n",
              "      <td>41722552.0</td>\n",
              "    </tr>\n",
              "    <tr>\n",
              "      <th>13</th>\n",
              "      <td>2006</td>\n",
              "      <td>42170126</td>\n",
              "      <td>4.210672e+07</td>\n",
              "      <td>4.199258e+07</td>\n",
              "      <td>4.207275e+07</td>\n",
              "      <td>4.222302e+07</td>\n",
              "      <td>42206856.0</td>\n",
              "      <td>42206920.0</td>\n",
              "    </tr>\n",
              "    <tr>\n",
              "      <th>14</th>\n",
              "      <td>2007</td>\n",
              "      <td>42658630</td>\n",
              "      <td>4.263647e+07</td>\n",
              "      <td>4.252068e+07</td>\n",
              "      <td>4.252068e+07</td>\n",
              "      <td>4.267846e+07</td>\n",
              "      <td>42678384.0</td>\n",
              "      <td>42678480.0</td>\n",
              "    </tr>\n",
              "    <tr>\n",
              "      <th>15</th>\n",
              "      <td>2008</td>\n",
              "      <td>43134017</td>\n",
              "      <td>4.316621e+07</td>\n",
              "      <td>4.305208e+07</td>\n",
              "      <td>4.297191e+07</td>\n",
              "      <td>4.312218e+07</td>\n",
              "      <td>43138248.0</td>\n",
              "      <td>43138308.0</td>\n",
              "    </tr>\n",
              "    <tr>\n",
              "      <th>16</th>\n",
              "      <td>2009</td>\n",
              "      <td>43608630</td>\n",
              "      <td>4.369596e+07</td>\n",
              "      <td>4.358679e+07</td>\n",
              "      <td>4.343031e+07</td>\n",
              "      <td>4.355854e+07</td>\n",
              "      <td>43588560.0</td>\n",
              "      <td>43588584.0</td>\n",
              "    </tr>\n",
              "    <tr>\n",
              "      <th>17</th>\n",
              "      <td>2010</td>\n",
              "      <td>44086292</td>\n",
              "      <td>4.422571e+07</td>\n",
              "      <td>4.412481e+07</td>\n",
              "      <td>4.389972e+07</td>\n",
              "      <td>4.399292e+07</td>\n",
              "      <td>44032680.0</td>\n",
              "      <td>44032752.0</td>\n",
              "    </tr>\n",
              "    <tr>\n",
              "      <th>18</th>\n",
              "      <td>2011</td>\n",
              "      <td>44553416</td>\n",
              "      <td>4.475546e+07</td>\n",
              "      <td>4.466613e+07</td>\n",
              "      <td>4.438400e+07</td>\n",
              "      <td>4.443168e+07</td>\n",
              "      <td>44475504.0</td>\n",
              "      <td>44475632.0</td>\n",
              "    </tr>\n",
              "    <tr>\n",
              "      <th>19</th>\n",
              "      <td>2012</td>\n",
              "      <td>45001571</td>\n",
              "      <td>4.528520e+07</td>\n",
              "      <td>4.521077e+07</td>\n",
              "      <td>4.488701e+07</td>\n",
              "      <td>4.488224e+07</td>\n",
              "      <td>44923392.0</td>\n",
              "      <td>44923528.0</td>\n",
              "    </tr>\n",
              "    <tr>\n",
              "      <th>20</th>\n",
              "      <td>2013</td>\n",
              "      <td>45434942</td>\n",
              "      <td>4.581495e+07</td>\n",
              "      <td>4.575871e+07</td>\n",
              "      <td>4.541260e+07</td>\n",
              "      <td>4.535300e+07</td>\n",
              "      <td>45384392.0</td>\n",
              "      <td>45384568.0</td>\n",
              "    </tr>\n",
              "    <tr>\n",
              "      <th>21</th>\n",
              "      <td>2014</td>\n",
              "      <td>45866010</td>\n",
              "      <td>4.634470e+07</td>\n",
              "      <td>4.630996e+07</td>\n",
              "      <td>4.596462e+07</td>\n",
              "      <td>4.585336e+07</td>\n",
              "      <td>45868784.0</td>\n",
              "      <td>45868928.0</td>\n",
              "    </tr>\n",
              "    <tr>\n",
              "      <th>22</th>\n",
              "      <td>2015</td>\n",
              "      <td>46313898</td>\n",
              "      <td>4.687445e+07</td>\n",
              "      <td>4.686452e+07</td>\n",
              "      <td>4.654693e+07</td>\n",
              "      <td>4.639377e+07</td>\n",
              "      <td>46388688.0</td>\n",
              "      <td>46388872.0</td>\n",
              "    </tr>\n",
              "    <tr>\n",
              "      <th>23</th>\n",
              "      <td>2016</td>\n",
              "      <td>46830116</td>\n",
              "      <td>4.740419e+07</td>\n",
              "      <td>4.742239e+07</td>\n",
              "      <td>4.716338e+07</td>\n",
              "      <td>4.698566e+07</td>\n",
              "      <td>46958752.0</td>\n",
              "      <td>46958956.0</td>\n",
              "    </tr>\n",
              "    <tr>\n",
              "      <th>24</th>\n",
              "      <td>2017</td>\n",
              "      <td>47419200</td>\n",
              "      <td>4.793394e+07</td>\n",
              "      <td>4.798356e+07</td>\n",
              "      <td>4.781783e+07</td>\n",
              "      <td>4.764148e+07</td>\n",
              "      <td>47596312.0</td>\n",
              "      <td>47596412.0</td>\n",
              "    </tr>\n",
              "    <tr>\n",
              "      <th>25</th>\n",
              "      <td>2018</td>\n",
              "      <td>48258494</td>\n",
              "      <td>4.846369e+07</td>\n",
              "      <td>4.854805e+07</td>\n",
              "      <td>4.851413e+07</td>\n",
              "      <td>4.837470e+07</td>\n",
              "      <td>48321048.0</td>\n",
              "      <td>48321160.0</td>\n",
              "    </tr>\n",
              "    <tr>\n",
              "      <th>26</th>\n",
              "      <td>2019</td>\n",
              "      <td>49395678</td>\n",
              "      <td>4.899343e+07</td>\n",
              "      <td>4.911584e+07</td>\n",
              "      <td>4.925613e+07</td>\n",
              "      <td>4.919978e+07</td>\n",
              "      <td>49155896.0</td>\n",
              "      <td>49155988.0</td>\n",
              "    </tr>\n",
              "    <tr>\n",
              "      <th>27</th>\n",
              "      <td>2020</td>\n",
              "      <td>50372424</td>\n",
              "      <td>4.952318e+07</td>\n",
              "      <td>4.968694e+07</td>\n",
              "      <td>5.004770e+07</td>\n",
              "      <td>5.013222e+07</td>\n",
              "      <td>50126856.0</td>\n",
              "      <td>50126920.0</td>\n",
              "    </tr>\n",
              "    <tr>\n",
              "      <th>28</th>\n",
              "      <td>2021</td>\n",
              "      <td>51049498</td>\n",
              "      <td>5.005293e+07</td>\n",
              "      <td>5.026135e+07</td>\n",
              "      <td>5.089267e+07</td>\n",
              "      <td>5.118851e+07</td>\n",
              "      <td>51263096.0</td>\n",
              "      <td>51263256.0</td>\n",
              "    </tr>\n",
              "  </tbody>\n",
              "</table>\n",
              "</div>"
            ],
            "text/plain": [
              "     Año  Población  ...  Ajuste grado 5  Ajuste grado 6\n",
              "0   1993   35032308  ...      35018104.0      35018624.0\n",
              "1   1994   35629174  ...      35642464.0      35642636.0\n",
              "2   1995   36229830  ...      36249032.0      36249012.0\n",
              "3   1996   36830574  ...      36841704.0      36841620.0\n",
              "4   1997   37426532  ...      37423112.0      37423152.0\n",
              "5   1998   38012359  ...      37995048.0      37995124.0\n",
              "6   1999   38585016  ...      38558024.0      38558180.0\n",
              "7   2000   39140080  ...      39112064.0      39112324.0\n",
              "8   2001   39674811  ...      39656736.0      39656988.0\n",
              "9   2002   40190679  ...      40191072.0      40191280.0\n",
              "10  2003   40693254  ...      40714024.0      40714216.0\n",
              "11  2004   41188093  ...      41224712.0      41224876.0\n",
              "12  2005   41671878  ...      41722344.0      41722552.0\n",
              "13  2006   42170126  ...      42206856.0      42206920.0\n",
              "14  2007   42658630  ...      42678384.0      42678480.0\n",
              "15  2008   43134017  ...      43138248.0      43138308.0\n",
              "16  2009   43608630  ...      43588560.0      43588584.0\n",
              "17  2010   44086292  ...      44032680.0      44032752.0\n",
              "18  2011   44553416  ...      44475504.0      44475632.0\n",
              "19  2012   45001571  ...      44923392.0      44923528.0\n",
              "20  2013   45434942  ...      45384392.0      45384568.0\n",
              "21  2014   45866010  ...      45868784.0      45868928.0\n",
              "22  2015   46313898  ...      46388688.0      46388872.0\n",
              "23  2016   46830116  ...      46958752.0      46958956.0\n",
              "24  2017   47419200  ...      47596312.0      47596412.0\n",
              "25  2018   48258494  ...      48321048.0      48321160.0\n",
              "26  2019   49395678  ...      49155896.0      49155988.0\n",
              "27  2020   50372424  ...      50126856.0      50126920.0\n",
              "28  2021   51049498  ...      51263096.0      51263256.0\n",
              "\n",
              "[29 rows x 8 columns]"
            ]
          },
          "metadata": {}
        }
      ]
    },
    {
      "cell_type": "markdown",
      "metadata": {
        "id": "syHeUYRfDHtO"
      },
      "source": [
        "### Comparación ajustes"
      ]
    },
    {
      "cell_type": "code",
      "metadata": {
        "colab": {
          "base_uri": "https://localhost:8080/",
          "height": 336
        },
        "id": "cWZj7sHrCtRx",
        "outputId": "737cd9a6-270c-4a24-987c-50b7d5c7d444"
      },
      "source": [
        "plt.figure(figsize = (7,5))\n",
        "plt.title('Comparación ajustes')\n",
        "plt.plot(tabla_predicciones['Año'], tabla_predicciones['Población'],'.')\n",
        "plt.plot(tabla_predicciones['Año'], tabla_predicciones['Ajuste grado 4'])\n",
        "plt.plot(tabla_predicciones['Año'], tabla_predicciones['Ajuste grado 5'])\n",
        "plt.plot(tabla_predicciones['Año'], tabla_predicciones['Ajuste grado 6'])\n",
        "plt.show()"
      ],
      "execution_count": 52,
      "outputs": [
        {
          "output_type": "display_data",
          "data": {
            "image/png": "[encoded data removed]",
            "text/plain": [
              "<Figure size 504x360 with 1 Axes>"
            ]
          },
          "metadata": {
            "needs_background": "light"
          }
        }
      ]
    },
    {
      "cell_type": "code",
      "metadata": {
        "id": "3VEMpnIjCtOp"
      },
      "source": [
        "x_zoomin = np.linspace(2018, 2021, 29)"
      ],
      "execution_count": 53,
      "outputs": []
    },
    {
      "cell_type": "code",
      "metadata": {
        "colab": {
          "base_uri": "https://localhost:8080/",
          "height": 716
        },
        "id": "dcljNy0MDaI0",
        "outputId": "a4905189-6f62-4489-910c-194ff8c50590"
      },
      "source": [
        "plt.figure(figsize = (15,12))\n",
        "plt.title('Comparación ajustes (zoom-in 2018, 2021)')\n",
        "plt.plot(x_zoomin, tabla_predicciones['Población'],'o')\n",
        "plt.plot(x_zoomin, tabla_predicciones['Ajuste grado 4'])\n",
        "plt.plot(x_zoomin, tabla_predicciones['Ajuste grado 5'])\n",
        "plt.plot(x_zoomin, tabla_predicciones['Ajuste grado 6'])\n",
        "plt.show()"
      ],
      "execution_count": 54,
      "outputs": [
        {
          "output_type": "display_data",
          "data": {
            "image/png": "[encoded data removed]",
            "text/plain": [
              "<Figure size 1080x864 with 1 Axes>"
            ]
          },
          "metadata": {
            "needs_background": "light"
          }
        }
      ]
    },
    {
      "cell_type": "markdown",
      "metadata": {
        "id": "u-MnpC2HEYDr"
      },
      "source": [
        "Está gráfica con acercamiento a los años $2018-2021$ tampoco nos muestra diferencias significativas entre los ajustes de grado 4, 5 y 6.<br/>\n",
        "\n",
        "Implementaremos una función que halle el error entre los datos originales y los arrojados por los ajustes."
      ]
    },
    {
      "cell_type": "code",
      "metadata": {
        "id": "tTpgtSIHDhkd"
      },
      "source": [
        "def error(n, m):\n",
        "  err = []\n",
        "  err = [0 for i in range(len(n))]\n",
        "  for i in range(len(n)):\n",
        "    err[i] = n[i] - m[i]\n",
        "  return err"
      ],
      "execution_count": 55,
      "outputs": []
    },
    {
      "cell_type": "code",
      "metadata": {
        "id": "JV9UkVQNEsFG"
      },
      "source": [
        "poblacion = tabla_predicciones['Población']\n",
        "p4 = tabla_predicciones['Ajuste grado 4']\n",
        "p5 = tabla_predicciones['Ajuste grado 5']\n",
        "p6 = tabla_predicciones['Ajuste grado 6']"
      ],
      "execution_count": 56,
      "outputs": []
    },
    {
      "cell_type": "code",
      "metadata": {
        "id": "L2pZVrMQE3tw"
      },
      "source": [
        "tabla_predicciones['Error p_4'] = error(poblacion,p4)  \n",
        "tabla_predicciones['Error p_5'] = error(poblacion,p5)\n",
        "tabla_predicciones['Error p_6'] = error(poblacion,p6)"
      ],
      "execution_count": 57,
      "outputs": []
    },
    {
      "cell_type": "code",
      "metadata": {
        "colab": {
          "base_uri": "https://localhost:8080/",
          "height": 996
        },
        "id": "qDMicF89FAhK",
        "outputId": "8438076b-a249-4f36-e449-0d275f56b901"
      },
      "source": [
        "display(tabla_predicciones)"
      ],
      "execution_count": 58,
      "outputs": [
        {
          "output_type": "display_data",
          "data": {
            "text/html": [
              "<div>\n",
              "<style scoped>\n",
              "    .dataframe tbody tr th:only-of-type {\n",
              "        vertical-align: middle;\n",
              "    }\n",
              "\n",
              "    .dataframe tbody tr th {\n",
              "        vertical-align: top;\n",
              "    }\n",
              "\n",
              "    .dataframe thead th {\n",
              "        text-align: right;\n",
              "    }\n",
              "</style>\n",
              "<table border=\"1\" class=\"dataframe\">\n",
              "  <thead>\n",
              "    <tr style=\"text-align: right;\">\n",
              "      <th></th>\n",
              "      <th>Año</th>\n",
              "      <th>Población</th>\n",
              "      <th>Ajuste grado 1</th>\n",
              "      <th>Ajuste grado 2</th>\n",
              "      <th>Ajuste grado 3</th>\n",
              "      <th>Ajuste grado 4</th>\n",
              "      <th>Ajuste grado 5</th>\n",
              "      <th>Ajuste grado 6</th>\n",
              "      <th>Error p_4</th>\n",
              "      <th>Error p_5</th>\n",
              "      <th>Error p_6</th>\n",
              "    </tr>\n",
              "  </thead>\n",
              "  <tbody>\n",
              "    <tr>\n",
              "      <th>0</th>\n",
              "      <td>1993</td>\n",
              "      <td>35032308</td>\n",
              "      <td>3.522000e+07</td>\n",
              "      <td>3.542842e+07</td>\n",
              "      <td>3.479710e+07</td>\n",
              "      <td>3.509294e+07</td>\n",
              "      <td>35018104.0</td>\n",
              "      <td>35018624.0</td>\n",
              "      <td>-60633.000</td>\n",
              "      <td>14204.0</td>\n",
              "      <td>13684.0</td>\n",
              "    </tr>\n",
              "    <tr>\n",
              "      <th>1</th>\n",
              "      <td>1994</td>\n",
              "      <td>35629174</td>\n",
              "      <td>3.574975e+07</td>\n",
              "      <td>3.591351e+07</td>\n",
              "      <td>3.555275e+07</td>\n",
              "      <td>3.563728e+07</td>\n",
              "      <td>35642464.0</td>\n",
              "      <td>35642636.0</td>\n",
              "      <td>-8104.625</td>\n",
              "      <td>-13290.0</td>\n",
              "      <td>-13462.0</td>\n",
              "    </tr>\n",
              "    <tr>\n",
              "      <th>2</th>\n",
              "      <td>1995</td>\n",
              "      <td>36229830</td>\n",
              "      <td>3.627950e+07</td>\n",
              "      <td>3.640190e+07</td>\n",
              "      <td>3.626161e+07</td>\n",
              "      <td>3.620526e+07</td>\n",
              "      <td>36249032.0</td>\n",
              "      <td>36249012.0</td>\n",
              "      <td>24572.250</td>\n",
              "      <td>-19202.0</td>\n",
              "      <td>-19182.0</td>\n",
              "    </tr>\n",
              "    <tr>\n",
              "      <th>3</th>\n",
              "      <td>1996</td>\n",
              "      <td>36830574</td>\n",
              "      <td>3.680925e+07</td>\n",
              "      <td>3.689361e+07</td>\n",
              "      <td>3.692752e+07</td>\n",
              "      <td>3.678809e+07</td>\n",
              "      <td>36841704.0</td>\n",
              "      <td>36841620.0</td>\n",
              "      <td>42483.625</td>\n",
              "      <td>-11130.0</td>\n",
              "      <td>-11046.0</td>\n",
              "    </tr>\n",
              "    <tr>\n",
              "      <th>4</th>\n",
              "      <td>1997</td>\n",
              "      <td>37426532</td>\n",
              "      <td>3.733899e+07</td>\n",
              "      <td>3.738862e+07</td>\n",
              "      <td>3.755435e+07</td>\n",
              "      <td>3.737800e+07</td>\n",
              "      <td>37423112.0</td>\n",
              "      <td>37423152.0</td>\n",
              "      <td>48533.250</td>\n",
              "      <td>3420.0</td>\n",
              "      <td>3380.0</td>\n",
              "    </tr>\n",
              "    <tr>\n",
              "      <th>5</th>\n",
              "      <td>1998</td>\n",
              "      <td>38012359</td>\n",
              "      <td>3.786874e+07</td>\n",
              "      <td>3.788694e+07</td>\n",
              "      <td>3.814594e+07</td>\n",
              "      <td>3.796822e+07</td>\n",
              "      <td>37995048.0</td>\n",
              "      <td>37995124.0</td>\n",
              "      <td>44141.375</td>\n",
              "      <td>17311.0</td>\n",
              "      <td>17235.0</td>\n",
              "    </tr>\n",
              "    <tr>\n",
              "      <th>6</th>\n",
              "      <td>1999</td>\n",
              "      <td>38585016</td>\n",
              "      <td>3.839849e+07</td>\n",
              "      <td>3.838856e+07</td>\n",
              "      <td>3.870615e+07</td>\n",
              "      <td>3.855299e+07</td>\n",
              "      <td>38558024.0</td>\n",
              "      <td>38558180.0</td>\n",
              "      <td>32023.750</td>\n",
              "      <td>26992.0</td>\n",
              "      <td>26836.0</td>\n",
              "    </tr>\n",
              "    <tr>\n",
              "      <th>7</th>\n",
              "      <td>2000</td>\n",
              "      <td>39140080</td>\n",
              "      <td>3.892823e+07</td>\n",
              "      <td>3.889350e+07</td>\n",
              "      <td>3.923884e+07</td>\n",
              "      <td>3.912758e+07</td>\n",
              "      <td>39112064.0</td>\n",
              "      <td>39112324.0</td>\n",
              "      <td>12499.750</td>\n",
              "      <td>28016.0</td>\n",
              "      <td>27756.0</td>\n",
              "    </tr>\n",
              "    <tr>\n",
              "      <th>8</th>\n",
              "      <td>2001</td>\n",
              "      <td>39674811</td>\n",
              "      <td>3.945798e+07</td>\n",
              "      <td>3.940174e+07</td>\n",
              "      <td>3.974785e+07</td>\n",
              "      <td>3.968825e+07</td>\n",
              "      <td>39656736.0</td>\n",
              "      <td>39656988.0</td>\n",
              "      <td>-13439.250</td>\n",
              "      <td>18075.0</td>\n",
              "      <td>17823.0</td>\n",
              "    </tr>\n",
              "    <tr>\n",
              "      <th>9</th>\n",
              "      <td>2002</td>\n",
              "      <td>40190679</td>\n",
              "      <td>3.998773e+07</td>\n",
              "      <td>3.991329e+07</td>\n",
              "      <td>4.023705e+07</td>\n",
              "      <td>4.023228e+07</td>\n",
              "      <td>40191072.0</td>\n",
              "      <td>40191280.0</td>\n",
              "      <td>-41602.125</td>\n",
              "      <td>-393.0</td>\n",
              "      <td>-601.0</td>\n",
              "    </tr>\n",
              "    <tr>\n",
              "      <th>10</th>\n",
              "      <td>2003</td>\n",
              "      <td>40693254</td>\n",
              "      <td>4.051748e+07</td>\n",
              "      <td>4.042815e+07</td>\n",
              "      <td>4.071028e+07</td>\n",
              "      <td>4.075797e+07</td>\n",
              "      <td>40714024.0</td>\n",
              "      <td>40714216.0</td>\n",
              "      <td>-64711.125</td>\n",
              "      <td>-20770.0</td>\n",
              "      <td>-20962.0</td>\n",
              "    </tr>\n",
              "    <tr>\n",
              "      <th>11</th>\n",
              "      <td>2004</td>\n",
              "      <td>41188093</td>\n",
              "      <td>4.104722e+07</td>\n",
              "      <td>4.094632e+07</td>\n",
              "      <td>4.117141e+07</td>\n",
              "      <td>4.126461e+07</td>\n",
              "      <td>41224712.0</td>\n",
              "      <td>41224876.0</td>\n",
              "      <td>-76512.375</td>\n",
              "      <td>-36619.0</td>\n",
              "      <td>-36783.0</td>\n",
              "    </tr>\n",
              "    <tr>\n",
              "      <th>12</th>\n",
              "      <td>2005</td>\n",
              "      <td>41671878</td>\n",
              "      <td>4.157697e+07</td>\n",
              "      <td>4.146780e+07</td>\n",
              "      <td>4.162428e+07</td>\n",
              "      <td>4.175252e+07</td>\n",
              "      <td>41722344.0</td>\n",
              "      <td>41722552.0</td>\n",
              "      <td>-80637.375</td>\n",
              "      <td>-50466.0</td>\n",
              "      <td>-50674.0</td>\n",
              "    </tr>\n",
              "    <tr>\n",
              "      <th>13</th>\n",
              "      <td>2006</td>\n",
              "      <td>42170126</td>\n",
              "      <td>4.210672e+07</td>\n",
              "      <td>4.199258e+07</td>\n",
              "      <td>4.207275e+07</td>\n",
              "      <td>4.222302e+07</td>\n",
              "      <td>42206856.0</td>\n",
              "      <td>42206920.0</td>\n",
              "      <td>-52895.125</td>\n",
              "      <td>-36730.0</td>\n",
              "      <td>-36794.0</td>\n",
              "    </tr>\n",
              "    <tr>\n",
              "      <th>14</th>\n",
              "      <td>2007</td>\n",
              "      <td>42658630</td>\n",
              "      <td>4.263647e+07</td>\n",
              "      <td>4.252068e+07</td>\n",
              "      <td>4.252068e+07</td>\n",
              "      <td>4.267846e+07</td>\n",
              "      <td>42678384.0</td>\n",
              "      <td>42678480.0</td>\n",
              "      <td>-19829.875</td>\n",
              "      <td>-19754.0</td>\n",
              "      <td>-19850.0</td>\n",
              "    </tr>\n",
              "    <tr>\n",
              "      <th>15</th>\n",
              "      <td>2008</td>\n",
              "      <td>43134017</td>\n",
              "      <td>4.316621e+07</td>\n",
              "      <td>4.305208e+07</td>\n",
              "      <td>4.297191e+07</td>\n",
              "      <td>4.312218e+07</td>\n",
              "      <td>43138248.0</td>\n",
              "      <td>43138308.0</td>\n",
              "      <td>11837.125</td>\n",
              "      <td>-4231.0</td>\n",
              "      <td>-4291.0</td>\n",
              "    </tr>\n",
              "    <tr>\n",
              "      <th>16</th>\n",
              "      <td>2009</td>\n",
              "      <td>43608630</td>\n",
              "      <td>4.369596e+07</td>\n",
              "      <td>4.358679e+07</td>\n",
              "      <td>4.343031e+07</td>\n",
              "      <td>4.355854e+07</td>\n",
              "      <td>43588560.0</td>\n",
              "      <td>43588584.0</td>\n",
              "      <td>50089.125</td>\n",
              "      <td>20070.0</td>\n",
              "      <td>20046.0</td>\n",
              "    </tr>\n",
              "    <tr>\n",
              "      <th>17</th>\n",
              "      <td>2010</td>\n",
              "      <td>44086292</td>\n",
              "      <td>4.422571e+07</td>\n",
              "      <td>4.412481e+07</td>\n",
              "      <td>4.389972e+07</td>\n",
              "      <td>4.399292e+07</td>\n",
              "      <td>44032680.0</td>\n",
              "      <td>44032752.0</td>\n",
              "      <td>93377.000</td>\n",
              "      <td>53612.0</td>\n",
              "      <td>53540.0</td>\n",
              "    </tr>\n",
              "    <tr>\n",
              "      <th>18</th>\n",
              "      <td>2011</td>\n",
              "      <td>44553416</td>\n",
              "      <td>4.475546e+07</td>\n",
              "      <td>4.466613e+07</td>\n",
              "      <td>4.438400e+07</td>\n",
              "      <td>4.443168e+07</td>\n",
              "      <td>44475504.0</td>\n",
              "      <td>44475632.0</td>\n",
              "      <td>121731.750</td>\n",
              "      <td>77912.0</td>\n",
              "      <td>77784.0</td>\n",
              "    </tr>\n",
              "    <tr>\n",
              "      <th>19</th>\n",
              "      <td>2012</td>\n",
              "      <td>45001571</td>\n",
              "      <td>4.528520e+07</td>\n",
              "      <td>4.521077e+07</td>\n",
              "      <td>4.488701e+07</td>\n",
              "      <td>4.488224e+07</td>\n",
              "      <td>44923392.0</td>\n",
              "      <td>44923528.0</td>\n",
              "      <td>119327.250</td>\n",
              "      <td>78179.0</td>\n",
              "      <td>78043.0</td>\n",
              "    </tr>\n",
              "    <tr>\n",
              "      <th>20</th>\n",
              "      <td>2013</td>\n",
              "      <td>45434942</td>\n",
              "      <td>4.581495e+07</td>\n",
              "      <td>4.575871e+07</td>\n",
              "      <td>4.541260e+07</td>\n",
              "      <td>4.535300e+07</td>\n",
              "      <td>45384392.0</td>\n",
              "      <td>45384568.0</td>\n",
              "      <td>81943.750</td>\n",
              "      <td>50550.0</td>\n",
              "      <td>50374.0</td>\n",
              "    </tr>\n",
              "    <tr>\n",
              "      <th>21</th>\n",
              "      <td>2014</td>\n",
              "      <td>45866010</td>\n",
              "      <td>4.634470e+07</td>\n",
              "      <td>4.630996e+07</td>\n",
              "      <td>4.596462e+07</td>\n",
              "      <td>4.585336e+07</td>\n",
              "      <td>45868784.0</td>\n",
              "      <td>45868928.0</td>\n",
              "      <td>12645.250</td>\n",
              "      <td>-2774.0</td>\n",
              "      <td>-2918.0</td>\n",
              "    </tr>\n",
              "    <tr>\n",
              "      <th>22</th>\n",
              "      <td>2015</td>\n",
              "      <td>46313898</td>\n",
              "      <td>4.687445e+07</td>\n",
              "      <td>4.686452e+07</td>\n",
              "      <td>4.654693e+07</td>\n",
              "      <td>4.639377e+07</td>\n",
              "      <td>46388688.0</td>\n",
              "      <td>46388872.0</td>\n",
              "      <td>-79874.750</td>\n",
              "      <td>-74790.0</td>\n",
              "      <td>-74974.0</td>\n",
              "    </tr>\n",
              "    <tr>\n",
              "      <th>23</th>\n",
              "      <td>2016</td>\n",
              "      <td>46830116</td>\n",
              "      <td>4.740419e+07</td>\n",
              "      <td>4.742239e+07</td>\n",
              "      <td>4.716338e+07</td>\n",
              "      <td>4.698566e+07</td>\n",
              "      <td>46958752.0</td>\n",
              "      <td>46958956.0</td>\n",
              "      <td>-155545.375</td>\n",
              "      <td>-128636.0</td>\n",
              "      <td>-128840.0</td>\n",
              "    </tr>\n",
              "    <tr>\n",
              "      <th>24</th>\n",
              "      <td>2017</td>\n",
              "      <td>47419200</td>\n",
              "      <td>4.793394e+07</td>\n",
              "      <td>4.798356e+07</td>\n",
              "      <td>4.781783e+07</td>\n",
              "      <td>4.764148e+07</td>\n",
              "      <td>47596312.0</td>\n",
              "      <td>47596412.0</td>\n",
              "      <td>-222282.500</td>\n",
              "      <td>-177112.0</td>\n",
              "      <td>-177212.0</td>\n",
              "    </tr>\n",
              "    <tr>\n",
              "      <th>25</th>\n",
              "      <td>2018</td>\n",
              "      <td>48258494</td>\n",
              "      <td>4.846369e+07</td>\n",
              "      <td>4.854805e+07</td>\n",
              "      <td>4.851413e+07</td>\n",
              "      <td>4.837470e+07</td>\n",
              "      <td>48321048.0</td>\n",
              "      <td>48321160.0</td>\n",
              "      <td>-116204.500</td>\n",
              "      <td>-62554.0</td>\n",
              "      <td>-62666.0</td>\n",
              "    </tr>\n",
              "    <tr>\n",
              "      <th>26</th>\n",
              "      <td>2019</td>\n",
              "      <td>49395678</td>\n",
              "      <td>4.899343e+07</td>\n",
              "      <td>4.911584e+07</td>\n",
              "      <td>4.925613e+07</td>\n",
              "      <td>4.919978e+07</td>\n",
              "      <td>49155896.0</td>\n",
              "      <td>49155988.0</td>\n",
              "      <td>195894.750</td>\n",
              "      <td>239782.0</td>\n",
              "      <td>239690.0</td>\n",
              "    </tr>\n",
              "    <tr>\n",
              "      <th>27</th>\n",
              "      <td>2020</td>\n",
              "      <td>50372424</td>\n",
              "      <td>4.952318e+07</td>\n",
              "      <td>4.968694e+07</td>\n",
              "      <td>5.004770e+07</td>\n",
              "      <td>5.013222e+07</td>\n",
              "      <td>50126856.0</td>\n",
              "      <td>50126920.0</td>\n",
              "      <td>240201.125</td>\n",
              "      <td>245568.0</td>\n",
              "      <td>245504.0</td>\n",
              "    </tr>\n",
              "    <tr>\n",
              "      <th>28</th>\n",
              "      <td>2021</td>\n",
              "      <td>51049498</td>\n",
              "      <td>5.005293e+07</td>\n",
              "      <td>5.026135e+07</td>\n",
              "      <td>5.089267e+07</td>\n",
              "      <td>5.118851e+07</td>\n",
              "      <td>51263096.0</td>\n",
              "      <td>51263256.0</td>\n",
              "      <td>-139016.625</td>\n",
              "      <td>-213598.0</td>\n",
              "      <td>-213758.0</td>\n",
              "    </tr>\n",
              "  </tbody>\n",
              "</table>\n",
              "</div>"
            ],
            "text/plain": [
              "     Año  Población  Ajuste grado 1  ...   Error p_4  Error p_5  Error p_6\n",
              "0   1993   35032308    3.522000e+07  ...  -60633.000    14204.0    13684.0\n",
              "1   1994   35629174    3.574975e+07  ...   -8104.625   -13290.0   -13462.0\n",
              "2   1995   36229830    3.627950e+07  ...   24572.250   -19202.0   -19182.0\n",
              "3   1996   36830574    3.680925e+07  ...   42483.625   -11130.0   -11046.0\n",
              "4   1997   37426532    3.733899e+07  ...   48533.250     3420.0     3380.0\n",
              "5   1998   38012359    3.786874e+07  ...   44141.375    17311.0    17235.0\n",
              "6   1999   38585016    3.839849e+07  ...   32023.750    26992.0    26836.0\n",
              "7   2000   39140080    3.892823e+07  ...   12499.750    28016.0    27756.0\n",
              "8   2001   39674811    3.945798e+07  ...  -13439.250    18075.0    17823.0\n",
              "9   2002   40190679    3.998773e+07  ...  -41602.125     -393.0     -601.0\n",
              "10  2003   40693254    4.051748e+07  ...  -64711.125   -20770.0   -20962.0\n",
              "11  2004   41188093    4.104722e+07  ...  -76512.375   -36619.0   -36783.0\n",
              "12  2005   41671878    4.157697e+07  ...  -80637.375   -50466.0   -50674.0\n",
              "13  2006   42170126    4.210672e+07  ...  -52895.125   -36730.0   -36794.0\n",
              "14  2007   42658630    4.263647e+07  ...  -19829.875   -19754.0   -19850.0\n",
              "15  2008   43134017    4.316621e+07  ...   11837.125    -4231.0    -4291.0\n",
              "16  2009   43608630    4.369596e+07  ...   50089.125    20070.0    20046.0\n",
              "17  2010   44086292    4.422571e+07  ...   93377.000    53612.0    53540.0\n",
              "18  2011   44553416    4.475546e+07  ...  121731.750    77912.0    77784.0\n",
              "19  2012   45001571    4.528520e+07  ...  119327.250    78179.0    78043.0\n",
              "20  2013   45434942    4.581495e+07  ...   81943.750    50550.0    50374.0\n",
              "21  2014   45866010    4.634470e+07  ...   12645.250    -2774.0    -2918.0\n",
              "22  2015   46313898    4.687445e+07  ...  -79874.750   -74790.0   -74974.0\n",
              "23  2016   46830116    4.740419e+07  ... -155545.375  -128636.0  -128840.0\n",
              "24  2017   47419200    4.793394e+07  ... -222282.500  -177112.0  -177212.0\n",
              "25  2018   48258494    4.846369e+07  ... -116204.500   -62554.0   -62666.0\n",
              "26  2019   49395678    4.899343e+07  ...  195894.750   239782.0   239690.0\n",
              "27  2020   50372424    4.952318e+07  ...  240201.125   245568.0   245504.0\n",
              "28  2021   51049498    5.005293e+07  ... -139016.625  -213598.0  -213758.0\n",
              "\n",
              "[29 rows x 11 columns]"
            ]
          },
          "metadata": {}
        }
      ]
    },
    {
      "cell_type": "markdown",
      "metadata": {
        "id": "liXVCOAdGoLq"
      },
      "source": [
        "### Eligiendo el mejor ajuste"
      ]
    },
    {
      "cell_type": "markdown",
      "metadata": {
        "id": "MtET70EoGrJD"
      },
      "source": [
        "Sacamos el promedio del error de los ajustes 4, 5 y 6."
      ]
    },
    {
      "cell_type": "code",
      "metadata": {
        "colab": {
          "base_uri": "https://localhost:8080/"
        },
        "id": "tSkhzJ3lFGRG",
        "outputId": "f8e8f17a-c875-4813-b181-50d558c34e61"
      },
      "source": [
        "np.mean(p4)"
      ],
      "execution_count": 59,
      "outputs": [
        {
          "output_type": "execute_result",
          "data": {
            "text/plain": [
              "42636466.12068965"
            ]
          },
          "metadata": {},
          "execution_count": 59
        }
      ]
    },
    {
      "cell_type": "code",
      "metadata": {
        "colab": {
          "base_uri": "https://localhost:8080/"
        },
        "id": "U4kSP9nzF_I3",
        "outputId": "78a7cfae-2246-41ea-c134-925cf263181f"
      },
      "source": [
        "np.mean(p5)"
      ],
      "execution_count": 60,
      "outputs": [
        {
          "output_type": "execute_result",
          "data": {
            "text/plain": [
              "42636409.93103448"
            ]
          },
          "metadata": {},
          "execution_count": 60
        }
      ]
    },
    {
      "cell_type": "code",
      "metadata": {
        "colab": {
          "base_uri": "https://localhost:8080/"
        },
        "id": "DK_nkE3nGPKH",
        "outputId": "ace8f5bf-dacb-4ff7-ea8e-f302c1aacfd9"
      },
      "source": [
        "np.mean(p6)"
      ],
      "execution_count": 61,
      "outputs": [
        {
          "output_type": "execute_result",
          "data": {
            "text/plain": [
              "42636546.48275862"
            ]
          },
          "metadata": {},
          "execution_count": 61
        }
      ]
    },
    {
      "cell_type": "code",
      "metadata": {
        "colab": {
          "base_uri": "https://localhost:8080/"
        },
        "id": "0-YaEkREGRM7",
        "outputId": "b7e9a578-9df3-4a98-a5d8-4bc745d3d442"
      },
      "source": [
        "np.mean(p5)<np.mean(p4)<np.mean(p6)"
      ],
      "execution_count": 62,
      "outputs": [
        {
          "output_type": "execute_result",
          "data": {
            "text/plain": [
              "True"
            ]
          },
          "metadata": {},
          "execution_count": 62
        }
      ]
    },
    {
      "cell_type": "markdown",
      "metadata": {
        "id": "-TJ5UtXSGv9q"
      },
      "source": [
        "Vemos que el ajuste que mejor representa la población es el ajuste de grado 5."
      ]
    },
    {
      "cell_type": "markdown",
      "metadata": {
        "id": "PfAa0txJG7p3"
      },
      "source": [
        "Ahora estimaremos la población de cada\n",
        "año a partir de 2022 y hasta 2032."
      ]
    },
    {
      "cell_type": "code",
      "metadata": {
        "id": "Fx0GeQj_G7gC"
      },
      "source": [
        "tabla_estimacion = tabla.copy()"
      ],
      "execution_count": 63,
      "outputs": []
    },
    {
      "cell_type": "code",
      "metadata": {
        "id": "9qjlFXuNHMzb"
      },
      "source": [
        "y3 = np.array(tabla_estimacion['Población'])\n",
        "x3 = np.array(tabla_estimacion['Año'])"
      ],
      "execution_count": 65,
      "outputs": []
    },
    {
      "cell_type": "code",
      "metadata": {
        "colab": {
          "base_uri": "https://localhost:8080/"
        },
        "id": "JWwBrQ8kII7Q",
        "outputId": "e0b09783-a2fe-438b-e523-6e94056aeb1e"
      },
      "source": [
        "x3,y3"
      ],
      "execution_count": 66,
      "outputs": [
        {
          "output_type": "execute_result",
          "data": {
            "text/plain": [
              "(array([1993, 1994, 1995, 1996, 1997, 1998, 1999, 2000, 2001, 2002, 2003,\n",
              "        2004, 2005, 2006, 2007, 2008, 2009, 2010, 2011, 2012, 2013, 2014,\n",
              "        2015, 2016, 2017, 2018, 2019, 2020, 2021]),\n",
              " array([35032308, 35629174, 36229830, 36830574, 37426532, 38012359,\n",
              "        38585016, 39140080, 39674811, 40190679, 40693254, 41188093,\n",
              "        41671878, 42170126, 42658630, 43134017, 43608630, 44086292,\n",
              "        44553416, 45001571, 45434942, 45866010, 46313898, 46830116,\n",
              "        47419200, 48258494, 49395678, 50372424, 51049498]))"
            ]
          },
          "metadata": {},
          "execution_count": 66
        }
      ]
    },
    {
      "cell_type": "code",
      "metadata": {
        "id": "iFhwAnIMIKAB"
      },
      "source": [
        "grad = 5\n",
        "c = np.polyfit(x2, y2, grad)"
      ],
      "execution_count": 67,
      "outputs": []
    },
    {
      "cell_type": "code",
      "metadata": {
        "colab": {
          "base_uri": "https://localhost:8080/"
        },
        "id": "mFhwj-COIPOo",
        "outputId": "39699386-6478-4055-bb6c-6ff6a7b5113f"
      },
      "source": [
        "c"
      ],
      "execution_count": 68,
      "outputs": [
        {
          "output_type": "execute_result",
          "data": {
            "text/plain": [
              "array([ 1.59483984e+00, -1.59620785e+04,  6.39029091e+07, -1.27914762e+11,\n",
              "        1.28023465e+14, -5.12527729e+16])"
            ]
          },
          "metadata": {},
          "execution_count": 68
        }
      ]
    },
    {
      "cell_type": "code",
      "metadata": {
        "id": "O0kwRTyIJ0PF"
      },
      "source": [
        "estimacion_x = np.concatenate((np.array(tabla_estimacion['Año']), np.arange(2022,2032,1)))"
      ],
      "execution_count": 69,
      "outputs": []
    },
    {
      "cell_type": "code",
      "metadata": {
        "id": "x9-aS5S-MYEy"
      },
      "source": [
        "b = np.array([0]*10)"
      ],
      "execution_count": 120,
      "outputs": []
    },
    {
      "cell_type": "code",
      "metadata": {
        "id": "8PRxm2MqMYAP"
      },
      "source": [
        "estimacion_y = np.concatenate((np.array(tabla_predicciones['Ajuste grado 5']), b))"
      ],
      "execution_count": 121,
      "outputs": []
    },
    {
      "cell_type": "code",
      "metadata": {
        "colab": {
          "base_uri": "https://localhost:8080/"
        },
        "id": "qmwGlaTbMX7t",
        "outputId": "cf4f4085-d458-4544-9e27-9c68160ed8a2"
      },
      "source": [
        "estimacion_x,estimacion_y"
      ],
      "execution_count": 122,
      "outputs": [
        {
          "output_type": "execute_result",
          "data": {
            "text/plain": [
              "(array([1993, 1994, 1995, 1996, 1997, 1998, 1999, 2000, 2001, 2002, 2003,\n",
              "        2004, 2005, 2006, 2007, 2008, 2009, 2010, 2011, 2012, 2013, 2014,\n",
              "        2015, 2016, 2017, 2018, 2019, 2020, 2021, 2022, 2023, 2024, 2025,\n",
              "        2026, 2027, 2028, 2029, 2030, 2031]),\n",
              " array([35018104., 35642464., 36249032., 36841704., 37423112., 37995048.,\n",
              "        38558024., 39112064., 39656736., 40191072., 40714024., 41224712.,\n",
              "        41722344., 42206856., 42678384., 43138248., 43588560., 44032680.,\n",
              "        44475504., 44923392., 45384392., 45868784., 46388688., 46958752.,\n",
              "        47596312., 48321048., 49155896., 50126856., 51263096.,        0.,\n",
              "               0.,        0.,        0.,        0.,        0.,        0.,\n",
              "               0.,        0.,        0.]))"
            ]
          },
          "metadata": {},
          "execution_count": 122
        }
      ]
    },
    {
      "cell_type": "markdown",
      "metadata": {
        "id": "LdoPNgBjPpfj"
      },
      "source": [
        "### Esta gráfica nos sirve para ver el crecimiento de la población hasta 2032."
      ]
    },
    {
      "cell_type": "code",
      "metadata": {
        "colab": {
          "base_uri": "https://localhost:8080/",
          "height": 607
        },
        "id": "ssgysSJuIP2P",
        "outputId": "62906090-454e-4dce-9db0-a2ccddf98094"
      },
      "source": [
        "w = np.polyval(c, estimacion_x)\n",
        "\n",
        "plt.figure(figsize = (12,10))\n",
        "plt.title('Población hasta 2032')\n",
        "plt.plot(estimacion_x, w,'.-')\n",
        "plt.show()"
      ],
      "execution_count": 115,
      "outputs": [
        {
          "output_type": "display_data",
          "data": {
            "image/png": "[encoded data removed]",
            "text/plain": [
              "<Figure size 864x720 with 1 Axes>"
            ]
          },
          "metadata": {
            "needs_background": "light"
          }
        }
      ]
    },
    {
      "cell_type": "code",
      "metadata": {
        "id": "f2LZl5-JJ9tA"
      },
      "source": [
        "data = (estimacion_x, w)"
      ],
      "execution_count": 116,
      "outputs": []
    },
    {
      "cell_type": "code",
      "metadata": {
        "id": "r7a1GiQOKbuK"
      },
      "source": [
        "import pandas as pd\n",
        "\n",
        "df = pd.DataFrame(data)\n",
        "df.to_csv('proyeccion_poblacion.csv')\n"
      ],
      "execution_count": 118,
      "outputs": []
    },
    {
      "cell_type": "code",
      "metadata": {
        "colab": {
          "base_uri": "https://localhost:8080/",
          "height": 1000
        },
        "id": "b8cu2Px-LEcA",
        "outputId": "ad7b12e3-15a7-40be-dc43-f583e66f728e"
      },
      "source": [
        "tabla = pd.read_csv('proyeccion_poblacion.csv')\n",
        "tabla.transpose()\n"
      ],
      "execution_count": 119,
      "outputs": [
        {
          "output_type": "execute_result",
          "data": {
            "text/html": [
              "<div>\n",
              "<style scoped>\n",
              "    .dataframe tbody tr th:only-of-type {\n",
              "        vertical-align: middle;\n",
              "    }\n",
              "\n",
              "    .dataframe tbody tr th {\n",
              "        vertical-align: top;\n",
              "    }\n",
              "\n",
              "    .dataframe thead th {\n",
              "        text-align: right;\n",
              "    }\n",
              "</style>\n",
              "<table border=\"1\" class=\"dataframe\">\n",
              "  <thead>\n",
              "    <tr style=\"text-align: right;\">\n",
              "      <th></th>\n",
              "      <th>0</th>\n",
              "      <th>1</th>\n",
              "    </tr>\n",
              "  </thead>\n",
              "  <tbody>\n",
              "    <tr>\n",
              "      <th>Unnamed: 0</th>\n",
              "      <td>0.0</td>\n",
              "      <td>1.0</td>\n",
              "    </tr>\n",
              "    <tr>\n",
              "      <th>0</th>\n",
              "      <td>1993.0</td>\n",
              "      <td>35018104.0</td>\n",
              "    </tr>\n",
              "    <tr>\n",
              "      <th>1</th>\n",
              "      <td>1994.0</td>\n",
              "      <td>35642464.0</td>\n",
              "    </tr>\n",
              "    <tr>\n",
              "      <th>2</th>\n",
              "      <td>1995.0</td>\n",
              "      <td>36249032.0</td>\n",
              "    </tr>\n",
              "    <tr>\n",
              "      <th>3</th>\n",
              "      <td>1996.0</td>\n",
              "      <td>36841704.0</td>\n",
              "    </tr>\n",
              "    <tr>\n",
              "      <th>4</th>\n",
              "      <td>1997.0</td>\n",
              "      <td>37423112.0</td>\n",
              "    </tr>\n",
              "    <tr>\n",
              "      <th>5</th>\n",
              "      <td>1998.0</td>\n",
              "      <td>37995048.0</td>\n",
              "    </tr>\n",
              "    <tr>\n",
              "      <th>6</th>\n",
              "      <td>1999.0</td>\n",
              "      <td>38558024.0</td>\n",
              "    </tr>\n",
              "    <tr>\n",
              "      <th>7</th>\n",
              "      <td>2000.0</td>\n",
              "      <td>39112064.0</td>\n",
              "    </tr>\n",
              "    <tr>\n",
              "      <th>8</th>\n",
              "      <td>2001.0</td>\n",
              "      <td>39656736.0</td>\n",
              "    </tr>\n",
              "    <tr>\n",
              "      <th>9</th>\n",
              "      <td>2002.0</td>\n",
              "      <td>40191072.0</td>\n",
              "    </tr>\n",
              "    <tr>\n",
              "      <th>10</th>\n",
              "      <td>2003.0</td>\n",
              "      <td>40714024.0</td>\n",
              "    </tr>\n",
              "    <tr>\n",
              "      <th>11</th>\n",
              "      <td>2004.0</td>\n",
              "      <td>41224712.0</td>\n",
              "    </tr>\n",
              "    <tr>\n",
              "      <th>12</th>\n",
              "      <td>2005.0</td>\n",
              "      <td>41722344.0</td>\n",
              "    </tr>\n",
              "    <tr>\n",
              "      <th>13</th>\n",
              "      <td>2006.0</td>\n",
              "      <td>42206856.0</td>\n",
              "    </tr>\n",
              "    <tr>\n",
              "      <th>14</th>\n",
              "      <td>2007.0</td>\n",
              "      <td>42678384.0</td>\n",
              "    </tr>\n",
              "    <tr>\n",
              "      <th>15</th>\n",
              "      <td>2008.0</td>\n",
              "      <td>43138248.0</td>\n",
              "    </tr>\n",
              "    <tr>\n",
              "      <th>16</th>\n",
              "      <td>2009.0</td>\n",
              "      <td>43588560.0</td>\n",
              "    </tr>\n",
              "    <tr>\n",
              "      <th>17</th>\n",
              "      <td>2010.0</td>\n",
              "      <td>44032680.0</td>\n",
              "    </tr>\n",
              "    <tr>\n",
              "      <th>18</th>\n",
              "      <td>2011.0</td>\n",
              "      <td>44475504.0</td>\n",
              "    </tr>\n",
              "    <tr>\n",
              "      <th>19</th>\n",
              "      <td>2012.0</td>\n",
              "      <td>44923392.0</td>\n",
              "    </tr>\n",
              "    <tr>\n",
              "      <th>20</th>\n",
              "      <td>2013.0</td>\n",
              "      <td>45384392.0</td>\n",
              "    </tr>\n",
              "    <tr>\n",
              "      <th>21</th>\n",
              "      <td>2014.0</td>\n",
              "      <td>45868784.0</td>\n",
              "    </tr>\n",
              "    <tr>\n",
              "      <th>22</th>\n",
              "      <td>2015.0</td>\n",
              "      <td>46388688.0</td>\n",
              "    </tr>\n",
              "    <tr>\n",
              "      <th>23</th>\n",
              "      <td>2016.0</td>\n",
              "      <td>46958752.0</td>\n",
              "    </tr>\n",
              "    <tr>\n",
              "      <th>24</th>\n",
              "      <td>2017.0</td>\n",
              "      <td>47596312.0</td>\n",
              "    </tr>\n",
              "    <tr>\n",
              "      <th>25</th>\n",
              "      <td>2018.0</td>\n",
              "      <td>48321048.0</td>\n",
              "    </tr>\n",
              "    <tr>\n",
              "      <th>26</th>\n",
              "      <td>2019.0</td>\n",
              "      <td>49155896.0</td>\n",
              "    </tr>\n",
              "    <tr>\n",
              "      <th>27</th>\n",
              "      <td>2020.0</td>\n",
              "      <td>50126856.0</td>\n",
              "    </tr>\n",
              "    <tr>\n",
              "      <th>28</th>\n",
              "      <td>2021.0</td>\n",
              "      <td>51263096.0</td>\n",
              "    </tr>\n",
              "    <tr>\n",
              "      <th>29</th>\n",
              "      <td>2022.0</td>\n",
              "      <td>52597400.0</td>\n",
              "    </tr>\n",
              "    <tr>\n",
              "      <th>30</th>\n",
              "      <td>2023.0</td>\n",
              "      <td>54166216.0</td>\n",
              "    </tr>\n",
              "    <tr>\n",
              "      <th>31</th>\n",
              "      <td>2024.0</td>\n",
              "      <td>56009896.0</td>\n",
              "    </tr>\n",
              "    <tr>\n",
              "      <th>32</th>\n",
              "      <td>2025.0</td>\n",
              "      <td>58172824.0</td>\n",
              "    </tr>\n",
              "    <tr>\n",
              "      <th>33</th>\n",
              "      <td>2026.0</td>\n",
              "      <td>60703704.0</td>\n",
              "    </tr>\n",
              "    <tr>\n",
              "      <th>34</th>\n",
              "      <td>2027.0</td>\n",
              "      <td>63655488.0</td>\n",
              "    </tr>\n",
              "    <tr>\n",
              "      <th>35</th>\n",
              "      <td>2028.0</td>\n",
              "      <td>67086216.0</td>\n",
              "    </tr>\n",
              "    <tr>\n",
              "      <th>36</th>\n",
              "      <td>2029.0</td>\n",
              "      <td>71058184.0</td>\n",
              "    </tr>\n",
              "    <tr>\n",
              "      <th>37</th>\n",
              "      <td>2030.0</td>\n",
              "      <td>75639344.0</td>\n",
              "    </tr>\n",
              "    <tr>\n",
              "      <th>38</th>\n",
              "      <td>2031.0</td>\n",
              "      <td>80902368.0</td>\n",
              "    </tr>\n",
              "  </tbody>\n",
              "</table>\n",
              "</div>"
            ],
            "text/plain": [
              "                 0           1\n",
              "Unnamed: 0     0.0         1.0\n",
              "0           1993.0  35018104.0\n",
              "1           1994.0  35642464.0\n",
              "2           1995.0  36249032.0\n",
              "3           1996.0  36841704.0\n",
              "4           1997.0  37423112.0\n",
              "5           1998.0  37995048.0\n",
              "6           1999.0  38558024.0\n",
              "7           2000.0  39112064.0\n",
              "8           2001.0  39656736.0\n",
              "9           2002.0  40191072.0\n",
              "10          2003.0  40714024.0\n",
              "11          2004.0  41224712.0\n",
              "12          2005.0  41722344.0\n",
              "13          2006.0  42206856.0\n",
              "14          2007.0  42678384.0\n",
              "15          2008.0  43138248.0\n",
              "16          2009.0  43588560.0\n",
              "17          2010.0  44032680.0\n",
              "18          2011.0  44475504.0\n",
              "19          2012.0  44923392.0\n",
              "20          2013.0  45384392.0\n",
              "21          2014.0  45868784.0\n",
              "22          2015.0  46388688.0\n",
              "23          2016.0  46958752.0\n",
              "24          2017.0  47596312.0\n",
              "25          2018.0  48321048.0\n",
              "26          2019.0  49155896.0\n",
              "27          2020.0  50126856.0\n",
              "28          2021.0  51263096.0\n",
              "29          2022.0  52597400.0\n",
              "30          2023.0  54166216.0\n",
              "31          2024.0  56009896.0\n",
              "32          2025.0  58172824.0\n",
              "33          2026.0  60703704.0\n",
              "34          2027.0  63655488.0\n",
              "35          2028.0  67086216.0\n",
              "36          2029.0  71058184.0\n",
              "37          2030.0  75639344.0\n",
              "38          2031.0  80902368.0"
            ]
          },
          "metadata": {},
          "execution_count": 119
        }
      ]
    },
    {
      "cell_type": "markdown",
      "metadata": {
        "id": "oEZudpzgQJvt"
      },
      "source": [
        "### Referencias\n",
        "DANE.\n",
        "Proyecciones\n",
        "de\n",
        "población.\n",
        "https://www.dane.gov.co/\n",
        "index.php/estadisticas-por-tema/demografia-y-poblacion/\n",
        "proyecciones-de-poblacion"
      ]
    },
    {
      "cell_type": "code",
      "metadata": {
        "id": "HMip0e5JQNhL"
      },
      "source": [
        ""
      ],
      "execution_count": null,
      "outputs": []
    }
  ]
}